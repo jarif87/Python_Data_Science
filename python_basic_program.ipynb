{
  "nbformat": 4,
  "nbformat_minor": 0,
  "metadata": {
    "colab": {
      "provenance": []
    },
    "kernelspec": {
      "name": "python3",
      "display_name": "Python 3"
    },
    "language_info": {
      "name": "python"
    }
  },
  "cells": [
    {
      "cell_type": "markdown",
      "source": [
        "# for loop"
      ],
      "metadata": {
        "id": "o1JtxJK7HZqa"
      }
    },
    {
      "cell_type": "code",
      "execution_count": 2,
      "metadata": {
        "colab": {
          "base_uri": "https://localhost:8080/"
        },
        "id": "n3CYPuCFGNq7",
        "outputId": "28e00871-4812-4a57-930b-0e312d7bbcd5"
      },
      "outputs": [
        {
          "output_type": "stream",
          "name": "stdout",
          "text": [
            "[1, 2, 3, 4, 5, 5]\n",
            "[1, 2, 3, 4, 5, 5]\n",
            "[1, 2, 3, 4, 5, 5]\n",
            "[1, 2, 3, 4, 5, 5]\n",
            "[1, 2, 3, 4, 5, 5]\n",
            "[1, 2, 3, 4, 5, 5]\n"
          ]
        }
      ],
      "source": [
        "data=[1,2,3,4,5,5]\n",
        "for x in data:\n",
        "  print(data)"
      ]
    },
    {
      "cell_type": "markdown",
      "source": [
        "# function"
      ],
      "metadata": {
        "id": "ARZOBjsuHVYF"
      }
    },
    {
      "cell_type": "code",
      "source": [
        "def add(x,y):\n",
        "  z=x+y\n",
        "  print(\"result is \",z)\n",
        "add(2,3)"
      ],
      "metadata": {
        "colab": {
          "base_uri": "https://localhost:8080/"
        },
        "id": "_FVJ6foPGlNp",
        "outputId": "a59e4d36-5ad3-4e1a-9022-b9075342d194"
      },
      "execution_count": 4,
      "outputs": [
        {
          "output_type": "stream",
          "name": "stdout",
          "text": [
            "result is  5\n"
          ]
        }
      ]
    },
    {
      "cell_type": "markdown",
      "source": [
        "# Create Class In Python"
      ],
      "metadata": {
        "id": "L5R8WLEkIfFg"
      }
    },
    {
      "cell_type": "code",
      "source": [
        "class Car:\n",
        "  model=\"volvo\"\n",
        "  color=\"yellow\"\n",
        "car=Car()\n",
        "print('Car model is',car.model)\n",
        "print(\"Car Color is {}\".format(car.color))"
      ],
      "metadata": {
        "colab": {
          "base_uri": "https://localhost:8080/"
        },
        "id": "PfiB1Ut7GlR1",
        "outputId": "0c0f4eab-0b45-4577-f448-ac25c95c6941"
      },
      "execution_count": 6,
      "outputs": [
        {
          "output_type": "stream",
          "name": "stdout",
          "text": [
            "Car model is volvo\n",
            "Car Color is yellow\n"
          ]
        }
      ]
    },
    {
      "cell_type": "markdown",
      "source": [
        "# Class With Init"
      ],
      "metadata": {
        "id": "H7m42InII3cJ"
      }
    },
    {
      "cell_type": "code",
      "source": [
        "class Car_info:\n",
        "  def __init__(self,model,color):\n",
        "    self.model=model\n",
        "    self.color=color\n",
        "car_1=Car_info(\"Ferari\",\"Green\")\n",
        "print(\"Car Model is \",car_1.model)\n",
        "print(car_1.color)\n",
        "\n",
        "    "
      ],
      "metadata": {
        "colab": {
          "base_uri": "https://localhost:8080/"
        },
        "id": "CezX3eAyGlV6",
        "outputId": "42ee6c0b-d3bb-4ac2-ac2a-694d8d3c2b98"
      },
      "execution_count": 8,
      "outputs": [
        {
          "output_type": "stream",
          "name": "stdout",
          "text": [
            "Car Model is  Ferari\n",
            "Green\n"
          ]
        }
      ]
    },
    {
      "cell_type": "code",
      "source": [
        "import random\n",
        "for x in range(10):\n",
        "  data=random.randint(1,20)\n",
        "  print(data)\n"
      ],
      "metadata": {
        "colab": {
          "base_uri": "https://localhost:8080/"
        },
        "id": "pz_Wr8XoGleZ",
        "outputId": "2482d5a4-0aa5-4af3-9137-6a72641889d5"
      },
      "execution_count": 11,
      "outputs": [
        {
          "output_type": "stream",
          "name": "stdout",
          "text": [
            "3\n",
            "18\n",
            "2\n",
            "4\n",
            "11\n",
            "2\n",
            "3\n",
            "13\n",
            "14\n",
            "9\n"
          ]
        }
      ]
    },
    {
      "cell_type": "code",
      "source": [
        "try:\n",
        "  10*(1/0)\n",
        "except:\n",
        "  print(\"nine\")"
      ],
      "metadata": {
        "colab": {
          "base_uri": "https://localhost:8080/"
        },
        "id": "6-71OtIEGlij",
        "outputId": "3dab3fa3-c384-4fb2-c84f-d617a8fcb86c"
      },
      "execution_count": 16,
      "outputs": [
        {
          "output_type": "stream",
          "name": "stdout",
          "text": [
            "nine\n"
          ]
        }
      ]
    },
    {
      "cell_type": "code",
      "source": [
        "try:\n",
        "  print(u)\n",
        "except:\n",
        "  print(\"U is not defined\")"
      ],
      "metadata": {
        "colab": {
          "base_uri": "https://localhost:8080/"
        },
        "id": "gZWhfN7JGll5",
        "outputId": "fd2377b1-3087-48ca-85cd-28310ae00c0e"
      },
      "execution_count": 19,
      "outputs": [
        {
          "output_type": "stream",
          "name": "stdout",
          "text": [
            "U is not defined\n"
          ]
        }
      ]
    },
    {
      "cell_type": "code",
      "source": [
        "try:\n",
        "  print(w)\n",
        "except NameError:\n",
        "  print(\"W is not Defined\")\n",
        "except:\n",
        "  print(\"Hello This is good Food\")"
      ],
      "metadata": {
        "colab": {
          "base_uri": "https://localhost:8080/"
        },
        "id": "EBnA42TlGlqc",
        "outputId": "4ebd1e6d-cc03-4ae7-92e6-14872fa48420"
      },
      "execution_count": 23,
      "outputs": [
        {
          "output_type": "stream",
          "name": "stdout",
          "text": [
            "W is not Defined\n"
          ]
        }
      ]
    },
    {
      "cell_type": "code",
      "source": [
        "n=10\n",
        "try:\n",
        "  print(n)\n",
        "except NameError:\n",
        "  print(\"N is not defined\")\n",
        "except:\n",
        "  print(\"hello\")\n",
        "finally:\n",
        "  print(\"Pizza is my favourite\")"
      ],
      "metadata": {
        "colab": {
          "base_uri": "https://localhost:8080/"
        },
        "id": "SosaejXHGlxW",
        "outputId": "1d834fb3-e2ab-49ee-847d-636007ed2799"
      },
      "execution_count": 22,
      "outputs": [
        {
          "output_type": "stream",
          "name": "stdout",
          "text": [
            "10\n",
            "Pizza is my favourite\n"
          ]
        }
      ]
    },
    {
      "cell_type": "code",
      "source": [
        "import matplotlib.pyplot as plt\n",
        "x=[1,2,3,4,5,6,7]\n",
        "y=[4,5,6,7,8,8,9]\n",
        "plt.plot(x,y)\n",
        "plt.xlabel(\"\\nValue of X\",fontsize=15,color=\"blue\")\n",
        "plt.ylabel(\"Value of Y\",fontsize=15,color=\"black\")\n",
        "plt.title(\"this is my visualization\\n\",fontsize=20,color=\"yellow\")\n",
        "plt.grid(True)\n",
        "plt.tight_layout(pad=0)\n",
        "plt.show()"
      ],
      "metadata": {
        "colab": {
          "base_uri": "https://localhost:8080/",
          "height": 319
        },
        "id": "NU4Y23B4Gl3L",
        "outputId": "39b17513-0a8d-4d6f-d47e-72e12dcf19d6"
      },
      "execution_count": 24,
      "outputs": [
        {
          "output_type": "display_data",
          "data": {
            "text/plain": [
              "<Figure size 432x288 with 1 Axes>"
            ],
            "image/png": "[encoded data removed]"
          },
          "metadata": {
            "needs_background": "light"
          }
        }
      ]
    },
    {
      "cell_type": "code",
      "source": [],
      "metadata": {
        "id": "IIgwqWy-GmZp"
      },
      "execution_count": null,
      "outputs": []
    },
    {
      "cell_type": "code",
      "source": [],
      "metadata": {
        "id": "53MWeoKTGmdb"
      },
      "execution_count": null,
      "outputs": []
    },
    {
      "cell_type": "code",
      "source": [],
      "metadata": {
        "id": "5Gb8KWEYGmhG"
      },
      "execution_count": null,
      "outputs": []
    }
  ]
}