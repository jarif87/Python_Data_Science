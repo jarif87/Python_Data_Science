{
  "nbformat": 4,
  "nbformat_minor": 0,
  "metadata": {
    "colab": {
      "provenance": []
    },
    "kernelspec": {
      "name": "python3",
      "display_name": "Python 3"
    },
    "language_info": {
      "name": "python"
    }
  },
  "cells": [
    {
      "cell_type": "code",
      "execution_count": 1,
      "metadata": {
        "colab": {
          "base_uri": "https://localhost:8080/"
        },
        "id": "CWJho0oA5ttd",
        "outputId": "8681a082-a8f7-4036-f28b-b7a85600d5de"
      },
      "outputs": [
        {
          "output_type": "stream",
          "name": "stdout",
          "text": [
            "Value of x is 10\n"
          ]
        }
      ],
      "source": [
        "x=10\n",
        "print(\"Value of x is\",x)"
      ]
    },
    {
      "cell_type": "code",
      "source": [
        "print(\"value of X is \",x,\"this is my first variable\")"
      ],
      "metadata": {
        "colab": {
          "base_uri": "https://localhost:8080/"
        },
        "id": "VPsSnvzA6LWC",
        "outputId": "bafe9397-0b0b-401c-afd8-be06f6920660"
      },
      "execution_count": 2,
      "outputs": [
        {
          "output_type": "stream",
          "name": "stdout",
          "text": [
            "value of X is  10 this is my first variable\n"
          ]
        }
      ]
    },
    {
      "cell_type": "code",
      "source": [
        "v=10\n",
        "w=3.1416\n",
        "string=\"language\""
      ],
      "metadata": {
        "id": "cg6v1GTw6bXA"
      },
      "execution_count": 3,
      "outputs": []
    },
    {
      "cell_type": "code",
      "source": [
        "print(string)"
      ],
      "metadata": {
        "colab": {
          "base_uri": "https://localhost:8080/"
        },
        "id": "qmZlgAIA6bT7",
        "outputId": "4778da58-a12a-4b04-c687-3a29291916f8"
      },
      "execution_count": 4,
      "outputs": [
        {
          "output_type": "stream",
          "name": "stdout",
          "text": [
            "language\n"
          ]
        }
      ]
    },
    {
      "cell_type": "code",
      "source": [
        "print(w )"
      ],
      "metadata": {
        "colab": {
          "base_uri": "https://localhost:8080/"
        },
        "id": "C1SI1ZlA6bQC",
        "outputId": "1847774b-0d47-4ee7-e984-6079557a696a"
      },
      "execution_count": 10,
      "outputs": [
        {
          "output_type": "stream",
          "name": "stdout",
          "text": [
            "3.1416\n"
          ]
        }
      ]
    },
    {
      "cell_type": "code",
      "source": [
        "age,name,address=20,\"tamim\",\"dhaka,bangladesh\""
      ],
      "metadata": {
        "id": "WZyf7Cev6bM_"
      },
      "execution_count": 11,
      "outputs": []
    },
    {
      "cell_type": "code",
      "source": [
        "print(address)"
      ],
      "metadata": {
        "colab": {
          "base_uri": "https://localhost:8080/"
        },
        "id": "ctRO9zyH6bJl",
        "outputId": "dfcecfe7-ab53-4787-ce28-f87e9491e133"
      },
      "execution_count": 12,
      "outputs": [
        {
          "output_type": "stream",
          "name": "stdout",
          "text": [
            "dhaka,bangladesh\n"
          ]
        }
      ]
    },
    {
      "cell_type": "code",
      "source": [
        "print(name)"
      ],
      "metadata": {
        "colab": {
          "base_uri": "https://localhost:8080/"
        },
        "id": "SZErld3A6bF2",
        "outputId": "28335976-6223-4e11-ac9f-672c27afa770"
      },
      "execution_count": 13,
      "outputs": [
        {
          "output_type": "stream",
          "name": "stdout",
          "text": [
            "tamim\n"
          ]
        }
      ]
    },
    {
      "cell_type": "code",
      "source": [
        "age=name=address=\"riyad\"\n",
        "print(age)"
      ],
      "metadata": {
        "colab": {
          "base_uri": "https://localhost:8080/"
        },
        "id": "S7xZVYT46a_D",
        "outputId": "da14b80d-d9f9-432b-8416-09a45e296a02"
      },
      "execution_count": 14,
      "outputs": [
        {
          "output_type": "stream",
          "name": "stdout",
          "text": [
            "riyad\n"
          ]
        }
      ]
    },
    {
      "cell_type": "code",
      "source": [],
      "metadata": {
        "id": "PJw-OMTD6a7H"
      },
      "execution_count": null,
      "outputs": []
    },
    {
      "cell_type": "code",
      "source": [],
      "metadata": {
        "id": "gt0Wehls6a2L"
      },
      "execution_count": null,
      "outputs": []
    },
    {
      "cell_type": "code",
      "source": [],
      "metadata": {
        "id": "UKRUwk9Q68_e"
      },
      "execution_count": null,
      "outputs": []
    },
    {
      "cell_type": "code",
      "source": [],
      "metadata": {
        "id": "7edrCoie684J"
      },
      "execution_count": null,
      "outputs": []
    },
    {
      "cell_type": "code",
      "source": [],
      "metadata": {
        "id": "4BnECNuX68sK"
      },
      "execution_count": null,
      "outputs": []
    },
    {
      "cell_type": "code",
      "source": [],
      "metadata": {
        "id": "1dc1yhhT68kT"
      },
      "execution_count": null,
      "outputs": []
    },
    {
      "cell_type": "code",
      "source": [],
      "metadata": {
        "id": "NoEo5Jj_68cm"
      },
      "execution_count": null,
      "outputs": []
    },
    {
      "cell_type": "code",
      "source": [],
      "metadata": {
        "id": "9bQFD0Ej68Pg"
      },
      "execution_count": null,
      "outputs": []
    }
  ]
}