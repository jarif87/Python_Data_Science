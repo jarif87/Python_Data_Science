{
  "nbformat": 4,
  "nbformat_minor": 0,
  "metadata": {
    "colab": {
      "provenance": []
    },
    "kernelspec": {
      "name": "python3",
      "display_name": "Python 3"
    },
    "language_info": {
      "name": "python"
    }
  },
  "cells": [
    {
      "cell_type": "code",
      "execution_count": null,
      "metadata": {
        "colab": {
          "base_uri": "https://localhost:8080/"
        },
        "id": "hbGev5su9kDK",
        "outputId": "6c64424c-c77d-4fcd-be12-c3c1e7734aca"
      },
      "outputs": [
        {
          "output_type": "stream",
          "name": "stdout",
          "text": [
            "t\n",
            "h\n",
            "i\n",
            "s\n",
            " \n",
            "i\n",
            "s\n",
            " \n",
            "o\n",
            "u\n",
            "r\n",
            " \n",
            "t\n",
            "h\n",
            "i\n",
            "r\n",
            "d\n",
            " \n",
            "c\n",
            "l\n",
            "a\n",
            "s\n",
            "s\n"
          ]
        }
      ],
      "source": [
        "str2 = \"this is our third class\"\n",
        "\n",
        "for c in str2:\n",
        "    print(c)\n",
        "    "
      ]
    },
    {
      "cell_type": "code",
      "source": [
        "# finding sum from a list\n",
        "sum1 = 0\n",
        "list3 = [ 54, 76, 31, 49, 71, 85, 67, 48, 56]\n",
        "\n",
        "for a in list3:\n",
        "    sum1 += a \n",
        "\n",
        "print(sum1)\n"
      ],
      "metadata": {
        "colab": {
          "base_uri": "https://localhost:8080/"
        },
        "id": "MXvsaK1z-0KI",
        "outputId": "ea83df0e-00fc-4bf6-bd7a-f49cc95d08dd"
      },
      "execution_count": null,
      "outputs": [
        {
          "output_type": "stream",
          "name": "stdout",
          "text": [
            "537\n"
          ]
        }
      ]
    },
    {
      "cell_type": "code",
      "source": [
        "sum=0\n",
        "test_list=[1,2,3,4,5,6,7]\n",
        "\n",
        "for i in test_list:\n",
        "  # print(test_list)\n",
        "  # print(i)\n",
        "  # sum=0\n",
        "  sum+=i\n",
        "print(sum)"
      ],
      "metadata": {
        "colab": {
          "base_uri": "https://localhost:8080/"
        },
        "id": "PqAq5u_XlTYk",
        "outputId": "229d9c43-1d1a-42a1-fce1-ed2810e8ce0a"
      },
      "execution_count": null,
      "outputs": [
        {
          "output_type": "stream",
          "name": "stdout",
          "text": [
            "28\n"
          ]
        }
      ]
    },
    {
      "cell_type": "code",
      "source": [
        "sum1=0\n",
        "for i in list3[ : 2]:\n",
        "    sum1 += i\n",
        "    \n",
        "print(sum1)\n"
      ],
      "metadata": {
        "colab": {
          "base_uri": "https://localhost:8080/"
        },
        "id": "BjLjnAtP-0iR",
        "outputId": "5ac08155-4407-4d0e-b207-14743599ef2e"
      },
      "execution_count": null,
      "outputs": [
        {
          "output_type": "stream",
          "name": "stdout",
          "text": [
            "130\n"
          ]
        }
      ]
    },
    {
      "cell_type": "code",
      "source": [
        "# finding odd and even numbers\n",
        "list3 = [ 54, 76, 31, 49, 71, 85, 67, 48, 56]\n",
        "\n",
        "for num in list3:\n",
        "    if num%2 == 0:\n",
        "        print(\"even: \", num)\n",
        "    else:\n",
        "        print(\"odd: \", num)\n",
        "         "
      ],
      "metadata": {
        "id": "Fq6fr7P4-0qM",
        "colab": {
          "base_uri": "https://localhost:8080/"
        },
        "outputId": "e5930449-b966-4336-c28a-313d2253b7af"
      },
      "execution_count": null,
      "outputs": [
        {
          "output_type": "stream",
          "name": "stdout",
          "text": [
            "even:  54\n",
            "even:  76\n",
            "odd:  31\n",
            "odd:  49\n",
            "odd:  71\n",
            "odd:  85\n",
            "odd:  67\n",
            "even:  48\n",
            "even:  56\n"
          ]
        }
      ]
    },
    {
      "cell_type": "code",
      "source": [
        "t1 = [ 18,15,\"sakib\", 24,\"mash\",33,28,30,25,\"mushi\",\"colince\",61,43,26,\"tamim\" ,77,\"riyad\",41,38,59,\"fizz\",'sifat',43, 28, 'nizam',72, 'noshin', 39,  'yousuf' ]\n",
        "\n",
        "\n",
        "st = [ ]\n",
        "o = [ ]\n",
        "e = [ ]\n",
        "\n",
        "for i in t1:\n",
        "    if isinstance( i, str):\n",
        "        st.append(i)\n",
        "    elif i % 2 == 0:\n",
        "        e.append(i)\n",
        "    else:\n",
        "        o.append(i)\n",
        "        \n",
        "        \n",
        "print(\"only odd numbers: \", o)\n",
        "print(\"===================\")\n",
        "print(\"only strings: \", st)\n",
        "print(\"===================\")\n",
        "print(\"only even numbers: \", e)"
      ],
      "metadata": {
        "colab": {
          "base_uri": "https://localhost:8080/"
        },
        "id": "QCxALKmO-0uG",
        "outputId": "f444cd29-eebc-440f-afb4-2deda2c215d0"
      },
      "execution_count": null,
      "outputs": [
        {
          "output_type": "stream",
          "name": "stdout",
          "text": [
            "only odd numbers:  [15, 33, 25, 61, 43, 77, 41, 59, 43, 39]\n",
            "===================\n",
            "only strings:  ['sakib', 'mash', 'mushi', 'colince', 'tamim', 'riyad', 'fizz', 'sifat', 'nizam', 'noshin', 'yousuf']\n",
            "===================\n",
            "only even numbers:  [18, 24, 28, 30, 26, 38, 28, 72]\n"
          ]
        }
      ]
    },
    {
      "cell_type": "code",
      "source": [
        "list_test=[\"bangla\",\"english\",\"math\",\"physics\",1,2,3,4,5,6,7,8,9,10,11,12,13,14,15,16,17,18,20,22]\n",
        "odd=[]\n",
        "even=[]\n",
        "string=[]\n",
        "for g in list_test:\n",
        "  if isinstance(g,str):\n",
        "    string.append(g)\n",
        "  elif g%2==0:\n",
        "    even.append(g)\n",
        "  else:\n",
        "    odd.append(g)\n",
        "\n",
        "print(\"String is\",string)\n",
        "print(\"\\n\")\n",
        "print(\"Even number is \",even)\n",
        "print(\"\\n\")\n",
        "print(\"Odd number is \",odd)\n",
        "    \n",
        "    \n",
        "\n",
        "\n",
        "\n"
      ],
      "metadata": {
        "colab": {
          "base_uri": "https://localhost:8080/"
        },
        "id": "LoCCFfJjrXUK",
        "outputId": "d6ef73c5-db8f-4993-abee-cf7a8e71abaf"
      },
      "execution_count": null,
      "outputs": [
        {
          "output_type": "stream",
          "name": "stdout",
          "text": [
            "String is ['bangla', 'english', 'math', 'physics']\n",
            "\n",
            "\n",
            "Even number is  [2, 4, 6, 8, 10, 12, 14, 16, 18, 20, 22]\n",
            "\n",
            "\n",
            "Odd number is  [1, 3, 5, 7, 9, 11, 13, 15, 17]\n"
          ]
        }
      ]
    },
    {
      "cell_type": "code",
      "source": [
        "\n",
        "l = [ 45, 72, 34, 12, 49 ]\n",
        "\n",
        "for i in l:\n",
        "    if i%2 == 0:\n",
        "        for j in l:\n",
        "            j = i + 5\n",
        "        print(\"adding 5 with even: \", j)\n",
        "    else:\n",
        "        print(\"odd number\", i)\n",
        "        "
      ],
      "metadata": {
        "colab": {
          "base_uri": "https://localhost:8080/"
        },
        "id": "WyqC_KM2-0xe",
        "outputId": "6dc22b71-11ff-44b2-cbdd-0cb2c863d8e7"
      },
      "execution_count": null,
      "outputs": [
        {
          "output_type": "stream",
          "name": "stdout",
          "text": [
            "odd number 45\n",
            "adding 5 with even:  77\n",
            "adding 5 with even:  39\n",
            "adding 5 with even:  17\n",
            "odd number 49\n"
          ]
        }
      ]
    },
    {
      "cell_type": "code",
      "source": [
        "input_list=[1,2,3,4,5,6,7,8]\n",
        "\n",
        "for h in input_list:\n",
        "  if h%2==0:\n",
        "    for g in input_list:\n",
        "      g=h+5\n",
        "    print(\"Even number is \",g)\n",
        "  else:\n",
        "\n",
        "   print(\"odd number\",h)"
      ],
      "metadata": {
        "colab": {
          "base_uri": "https://localhost:8080/"
        },
        "id": "eOvFMjp7yMWD",
        "outputId": "c2ecb440-0f17-4c3b-fabb-64b8da1ec432"
      },
      "execution_count": null,
      "outputs": [
        {
          "output_type": "stream",
          "name": "stdout",
          "text": [
            "odd number 1\n",
            "Even number is  7\n",
            "odd number 3\n",
            "Even number is  9\n",
            "odd number 5\n",
            "Even number is  11\n",
            "odd number 7\n",
            "Even number is  13\n"
          ]
        }
      ]
    },
    {
      "cell_type": "code",
      "source": [
        "v = [ 18,15,24,33,28,30,35,61,43, 51,46,72,39,17 ]\n",
        "m = []\n",
        "n = []\n",
        "for l in v: \n",
        "    if l % 2 == 0:\n",
        "        l = l + 100\n",
        "        m.append(l)\n",
        "    else:\n",
        "        l = l - 100\n",
        "        n.append(l)\n",
        "\n",
        "print(\"the list of new even numbers are: \", m)\n",
        "print(\"\\n\")\n",
        "print(\"the list of new odd numbers are: \", n) "
      ],
      "metadata": {
        "colab": {
          "base_uri": "https://localhost:8080/"
        },
        "id": "xQsaWScH-01L",
        "outputId": "5b0d8378-2ad0-4b60-ba52-e9ff20bfa4e0"
      },
      "execution_count": null,
      "outputs": [
        {
          "output_type": "stream",
          "name": "stdout",
          "text": [
            "the list of new even numbers are:  [118, 124, 128, 130, 146, 172]\n",
            "\n",
            "\n",
            "the list of new odd numbers are:  [-85, -67, -65, -39, -57, -49, -61, -83]\n"
          ]
        }
      ]
    },
    {
      "cell_type": "code",
      "source": [
        "# exmaple 01: using string\n",
        "for v in \"Sakib\":\n",
        "    if v == \"i\":\n",
        "      break\n",
        "    \n",
        "      print(v)\n",
        "    else:\n",
        "      print(v)\n",
        "\n",
        "\n",
        "\n",
        "        \n",
        "print(\"its done\")"
      ],
      "metadata": {
        "colab": {
          "base_uri": "https://localhost:8080/"
        },
        "id": "bSM5PLSV-05E",
        "outputId": "281a1b1d-8345-468a-a5c8-f60c8f6c11a5"
      },
      "execution_count": null,
      "outputs": [
        {
          "output_type": "stream",
          "name": "stdout",
          "text": [
            "S\n",
            "a\n",
            "k\n",
            "its done\n"
          ]
        }
      ]
    },
    {
      "cell_type": "code",
      "source": [
        "# exmaple 02: using numbers\n",
        "l = [ 21,34,16,19,100, 26,29,41,38,59]\n",
        "\n",
        "for i in l:\n",
        "    if i > 50:\n",
        "\n",
        "        break\n",
        "        # print(i)\n",
        "        \n",
        "    else:\n",
        "        print(i)\n",
        "        \n",
        "print(\"its done\")"
      ],
      "metadata": {
        "colab": {
          "base_uri": "https://localhost:8080/"
        },
        "id": "627s9sWu-082",
        "outputId": "607aa3da-56f2-4992-ff1e-8fc90e0ca341"
      },
      "execution_count": null,
      "outputs": [
        {
          "output_type": "stream",
          "name": "stdout",
          "text": [
            "21\n",
            "34\n",
            "16\n",
            "19\n",
            "its done\n"
          ]
        }
      ]
    },
    {
      "cell_type": "code",
      "source": [
        "# exmaple 03: using string\n",
        "for v in \"Sakib\":\n",
        "    if v == \"i\":\n",
        "        continue\n",
        "        print(v)\n",
        "    else:\n",
        "        print(v)\n",
        "        \n",
        "print(\"its done\")  "
      ],
      "metadata": {
        "colab": {
          "base_uri": "https://localhost:8080/"
        },
        "id": "rWGdbtyH-1An",
        "outputId": "c73dbb24-f502-40ae-d6c7-bbdd8a160e10"
      },
      "execution_count": null,
      "outputs": [
        {
          "output_type": "stream",
          "name": "stdout",
          "text": [
            "S\n",
            "a\n",
            "k\n",
            "b\n",
            "its done\n"
          ]
        }
      ]
    },
    {
      "cell_type": "code",
      "source": [
        "for v in \"sakib\":\n",
        "  if v==\"i\":\n",
        "    continue\n",
        "    print(v)\n",
        "  else:\n",
        "    print(v)\n",
        "print(\"its done\")"
      ],
      "metadata": {
        "colab": {
          "base_uri": "https://localhost:8080/"
        },
        "id": "gfEmrDoo4JZq",
        "outputId": "3a124139-4d41-443a-f442-b4d43ff61a0a"
      },
      "execution_count": null,
      "outputs": [
        {
          "output_type": "stream",
          "name": "stdout",
          "text": [
            "s\n",
            "a\n",
            "k\n",
            "b\n",
            "its done\n"
          ]
        }
      ]
    },
    {
      "cell_type": "code",
      "source": [
        "# exmaple 04: using numbers\n",
        "l = [ 21,34,16,19,100, 26,29,41,38,59]\n",
        "\n",
        "for i in l:\n",
        "    if i > 50:\n",
        "        continue\n",
        "        #print(i)\n",
        "        \n",
        "    else:\n",
        "        print(i)\n",
        "        \n",
        "print(\"its done\")"
      ],
      "metadata": {
        "colab": {
          "base_uri": "https://localhost:8080/"
        },
        "id": "RXIEx0aS-1ES",
        "outputId": "6d25f2fa-5b20-4c21-ec7f-bab35c0caeb0"
      },
      "execution_count": null,
      "outputs": [
        {
          "output_type": "stream",
          "name": "stdout",
          "text": [
            "21\n",
            "34\n",
            "16\n",
            "19\n",
            "26\n",
            "29\n",
            "41\n",
            "38\n",
            "its done\n"
          ]
        }
      ]
    },
    {
      "cell_type": "code",
      "source": [
        "# example 05: for-if-continue\n",
        "l = [ 21,34,16,19,100, 26,29,41,38,59]\n",
        "sum_total = 0\n",
        "\n",
        "# loop\n",
        "for i in l:\n",
        "    if i == 19 or i == 29:\n",
        "        continue\n",
        "    #print(i)\n",
        "    sum_total += i  # increment\n",
        "    \n",
        "#print(i)\n",
        "print(sum_total)  #  final ans"
      ],
      "metadata": {
        "colab": {
          "base_uri": "https://localhost:8080/"
        },
        "id": "HMaP2CRoCWDd",
        "outputId": "5d25848e-5834-4064-d5f9-5a090d9e8eb8"
      },
      "execution_count": null,
      "outputs": [
        {
          "output_type": "stream",
          "name": "stdout",
          "text": [
            "335\n"
          ]
        }
      ]
    },
    {
      "cell_type": "code",
      "source": [
        "l = [ 21,34,16,19,100, 26,29,41,38,59]\n",
        "sum_total = 0\n",
        "\n",
        "# loop\n",
        "for i in l:\n",
        "    if i == 19 or i == 29:\n",
        "        break\n",
        "    #print(i)\n",
        "    sum_total += i  # increment\n",
        "    \n",
        "#print(i)\n",
        "print(sum_total)"
      ],
      "metadata": {
        "colab": {
          "base_uri": "https://localhost:8080/"
        },
        "id": "yLd_Gxp8CV_m",
        "outputId": "aadbc87c-f54c-4919-a642-bb02dd82c237"
      },
      "execution_count": null,
      "outputs": [
        {
          "output_type": "stream",
          "name": "stdout",
          "text": [
            "71\n"
          ]
        }
      ]
    },
    {
      "cell_type": "code",
      "source": [
        "# Combined operation of break and continue\n",
        "# example 07\n",
        "for x in range(-10, 30):\n",
        "    if x == 2:\n",
        "        continue\n",
        "    elif x > 8:\n",
        "        break\n",
        "    print(x)"
      ],
      "metadata": {
        "colab": {
          "base_uri": "https://localhost:8080/"
        },
        "id": "BYxLe3g-CV6p",
        "outputId": "7a50316d-42eb-46dc-a07f-ea2e783e61ec"
      },
      "execution_count": null,
      "outputs": [
        {
          "output_type": "stream",
          "name": "stdout",
          "text": [
            "-10\n",
            "-9\n",
            "-8\n",
            "-7\n",
            "-6\n",
            "-5\n",
            "-4\n",
            "-3\n",
            "-2\n",
            "-1\n",
            "0\n",
            "1\n",
            "3\n",
            "4\n",
            "5\n",
            "6\n",
            "7\n",
            "8\n"
          ]
        }
      ]
    },
    {
      "cell_type": "code",
      "source": [
        "# example 08\n",
        "v = [ 18,15,24,33,28,30,35,61,43 ]\n",
        "for x in v:\n",
        "    if x == 24:\n",
        "        continue \n",
        "    elif x == 35:\n",
        "        break \n",
        "    print(x)"
      ],
      "metadata": {
        "id": "zJ2sdDadCV2w",
        "colab": {
          "base_uri": "https://localhost:8080/"
        },
        "outputId": "a1a0c89e-116f-440e-f890-3805c78b549a"
      },
      "execution_count": null,
      "outputs": [
        {
          "output_type": "stream",
          "name": "stdout",
          "text": [
            "18\n",
            "15\n",
            "33\n",
            "28\n",
            "30\n"
          ]
        }
      ]
    },
    {
      "cell_type": "code",
      "source": [
        "# example 09\n",
        "a = [ 21,34,16,19,100, 26,29,41,38,59]\n",
        "\n",
        "# print(sum(a))  # 63\n",
        "list_sum = 0\n",
        "\n",
        "for num in a:\n",
        "    if num == 19:\n",
        "        continue  \n",
        "    elif num == 29:\n",
        "        break \n",
        "    else:\n",
        "        list_sum += num\n",
        "\n",
        "print(list_sum)"
      ],
      "metadata": {
        "id": "N_7CTRH0CVuY",
        "colab": {
          "base_uri": "https://localhost:8080/"
        },
        "outputId": "a56015fd-4621-4680-dddc-ec971268e2a3"
      },
      "execution_count": null,
      "outputs": [
        {
          "output_type": "stream",
          "name": "stdout",
          "text": [
            "197\n"
          ]
        }
      ]
    },
    {
      "cell_type": "code",
      "source": [
        "# 2.3.3 While Loop\n",
        "\n",
        "x = 0\n",
        "\n",
        "while x < 10:\n",
        "    print(x)\n",
        "    x = x + 1\n",
        "\n"
      ],
      "metadata": {
        "id": "_x8SXwpBCVg_",
        "colab": {
          "base_uri": "https://localhost:8080/"
        },
        "outputId": "a002f1a1-6474-4623-b4a8-a213a62a821c"
      },
      "execution_count": null,
      "outputs": [
        {
          "output_type": "stream",
          "name": "stdout",
          "text": [
            "0\n",
            "1\n",
            "2\n",
            "3\n",
            "4\n",
            "5\n",
            "6\n",
            "7\n",
            "8\n",
            "9\n"
          ]
        }
      ]
    },
    {
      "cell_type": "code",
      "source": [
        "#%%\n",
        "count = 0\n",
        "while (count < 16):\n",
        "    print(count)\n",
        "    count += 1\n",
        "    \n",
        "print(\"all done\")\n"
      ],
      "metadata": {
        "colab": {
          "base_uri": "https://localhost:8080/"
        },
        "id": "PMmmJDgMFb26",
        "outputId": "6edf653d-cc4a-455d-bcc1-3eb223a51522"
      },
      "execution_count": null,
      "outputs": [
        {
          "output_type": "stream",
          "name": "stdout",
          "text": [
            "0\n",
            "1\n",
            "2\n",
            "3\n",
            "4\n",
            "5\n",
            "6\n",
            "7\n",
            "8\n",
            "9\n",
            "10\n",
            "11\n",
            "12\n",
            "13\n",
            "14\n",
            "15\n",
            "all done\n"
          ]
        }
      ]
    },
    {
      "cell_type": "code",
      "source": [
        "# Finding prime number\n",
        "\n",
        "for num in range (2,20):\n",
        "    for i in range(2, num):\n",
        "        if num % i ==0:\n",
        "            j = num / i\n",
        "            print(\"%d equals %d*%d\" %(num, i, j))\n",
        "            break\n",
        "    \n",
        "    else:\n",
        "        print(num, \"is a Prime number\")\n",
        "        "
      ],
      "metadata": {
        "colab": {
          "base_uri": "https://localhost:8080/"
        },
        "id": "gciawHX-5F64",
        "outputId": "fd00bbed-3b13-4737-bf87-b608e4feb959"
      },
      "execution_count": null,
      "outputs": [
        {
          "output_type": "stream",
          "name": "stdout",
          "text": [
            "2 is a Prime number\n",
            "3 is a Prime number\n",
            "4 equals 2*2\n",
            "5 is a Prime number\n",
            "6 equals 2*3\n",
            "7 is a Prime number\n",
            "8 equals 2*4\n",
            "9 equals 3*3\n",
            "10 equals 2*5\n",
            "11 is a Prime number\n",
            "12 equals 2*6\n",
            "13 is a Prime number\n",
            "14 equals 2*7\n",
            "15 equals 3*5\n",
            "16 equals 2*8\n",
            "17 is a Prime number\n",
            "18 equals 2*9\n",
            "19 is a Prime number\n"
          ]
        }
      ]
    },
    {
      "cell_type": "code",
      "source": [
        "print (\"prime numbers between are\")\n",
        "for num in range (1,30):\n",
        "    if num > 1: # All prime number are greater than 1\n",
        "        for i in range (2, num):\n",
        "            if (num % i) == 0:\n",
        "                break\n",
        "        else:\n",
        "            print(num)"
      ],
      "metadata": {
        "colab": {
          "base_uri": "https://localhost:8080/"
        },
        "id": "JqvVVXrc5F0P",
        "outputId": "7a78afb3-3161-4570-a0e6-54ee80f7df96"
      },
      "execution_count": null,
      "outputs": [
        {
          "output_type": "stream",
          "name": "stdout",
          "text": [
            "prime numbers between are\n",
            "2\n",
            "3\n",
            "5\n",
            "7\n",
            "11\n",
            "13\n",
            "17\n",
            "19\n",
            "23\n",
            "29\n"
          ]
        }
      ]
    },
    {
      "cell_type": "code",
      "source": [
        "num = 11\n",
        "# If given number is greater than 1\n",
        "if num > 1:\n",
        "    # Iterate from 2 to n / 2\n",
        "    for i in range(2, int(num/2)+1):\n",
        "        # If num is divisible by any number between\n",
        "        # 2 and n / 2, it is not prime\n",
        "        if (num % i) == 0:\n",
        "            print(num, \"is not a prime number\")\n",
        "            break\n",
        "    else:\n",
        "        print(num, \"is a prime number\")\n",
        "else:\n",
        "    print(num, \"is not a prime number\")"
      ],
      "metadata": {
        "id": "DwdQxKHL5Ftg",
        "colab": {
          "base_uri": "https://localhost:8080/"
        },
        "outputId": "bffa8776-7ab4-4833-e0bf-5b19062a5075"
      },
      "execution_count": 1,
      "outputs": [
        {
          "output_type": "stream",
          "name": "stdout",
          "text": [
            "11 is a prime number\n"
          ]
        }
      ]
    },
    {
      "cell_type": "code",
      "source": [
        "def prime_number_check(a):\n",
        "  if a>1:\n",
        "    for i in range(2,int(a/2)+1):\n",
        "      if a%i==0:\n",
        "        print(\"Number is not Prime\",a)\n",
        "        break\n",
        "      else:\n",
        "        print(\"Number is Prime\",a)\n",
        "  else:\n",
        "\n",
        "    print(\"Number is not Prime\",a)\n",
        "\n",
        "\n"
      ],
      "metadata": {
        "id": "BItShUhqp9zy"
      },
      "execution_count": 5,
      "outputs": []
    },
    {
      "cell_type": "code",
      "source": [
        "  m=int(input(\"Enter your number:\\n\"))\n",
        "  prime_number_check(m)"
      ],
      "metadata": {
        "colab": {
          "base_uri": "https://localhost:8080/"
        },
        "id": "k_42Xf0btfod",
        "outputId": "d8879390-24f9-4180-a051-b51f18c1030d"
      },
      "execution_count": 7,
      "outputs": [
        {
          "output_type": "stream",
          "name": "stdout",
          "text": [
            "Enter your number:\n",
            "45\n",
            "Number is Prime 45\n",
            "Number is not Prime 45\n"
          ]
        }
      ]
    }
  ]
}