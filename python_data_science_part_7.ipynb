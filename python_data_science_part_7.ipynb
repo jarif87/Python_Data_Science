{
  "nbformat": 4,
  "nbformat_minor": 0,
  "metadata": {
    "colab": {
      "provenance": []
    },
    "kernelspec": {
      "name": "python3",
      "display_name": "Python 3"
    },
    "language_info": {
      "name": "python"
    }
  },
  "cells": [
    {
      "cell_type": "code",
      "source": [
        "import array as arr\n",
        "import numpy as np\n"
      ],
      "metadata": {
        "id": "AgBq-64eTs7T"
      },
      "execution_count": 1,
      "outputs": []
    },
    {
      "cell_type": "markdown",
      "source": [
        "# Check Prime Number"
      ],
      "metadata": {
        "id": "sczVK5cAS8Z8"
      }
    },
    {
      "cell_type": "code",
      "execution_count": 2,
      "metadata": {
        "id": "5FWOjv9Sr-Dh",
        "colab": {
          "base_uri": "https://localhost:8080/"
        },
        "outputId": "e7b763c1-5b3b-4d77-84e2-b82e05678644"
      },
      "outputs": [
        {
          "output_type": "stream",
          "name": "stdout",
          "text": [
            "Enter your Prime number :10\n",
            "10,its not a prime number\n"
          ]
        }
      ],
      "source": [
        "num = int(input(\"Enter your Prime number :\"))\n",
        "flag =False\n",
        "\n",
        "if num > 1:\n",
        "    for x in range(2,num):\n",
        "        if num % x == 0:\n",
        "            flag = True\n",
        "            break\n",
        "\n",
        "if flag:\n",
        "    print(f'{num},its not a prime number')\n",
        "else:\n",
        "    print(f\"{num}, its prime number\")"
      ]
    },
    {
      "cell_type": "markdown",
      "source": [
        "# 1. array\n",
        "# Arrays are a fundamental data structure, and an important part of most programming \n",
        "# languages. In Python, they are containers which are able to store more than \n",
        "# one item at the same time. they can only hold a sequence of multiple items that\n",
        "# are of the same type. There are arrays that contain only integers, or only \n",
        "# floating point numbers, or only any other Python data type you want to use.\n",
        "\n",
        "# structure of an array\n",
        "# variable_name = array(typecode,[elements])\n",
        "\n",
        "#how you would create an array\n",
        "# variable_name would be the name of the array.\n",
        "# The typecode specifies what kind of elements would be stored in the array. \n",
        "# Inside square brackets you mention the elements that would be stored in the array, \n",
        "# with each element being separated by a comma.\n",
        "\n",
        "# 'i' \tsigned int \tint \t2\n",
        "# 'l' \tsigned long \tint \t4\n",
        "# 'q' \tsigned long long \tint \t8\n",
        "# 'f' \tfloat \tfloat \t4\n",
        "# 'd' \tdouble \tfloat \t8\n",
        "\n",
        "\n",
        "\n",
        "\n",
        "\n"
      ],
      "metadata": {
        "id": "MvAkqwljTQIc"
      }
    },
    {
      "cell_type": "code",
      "source": [
        "numbers = arr.array('i',[10,20,30])\n",
        "print(numbers)\n"
      ],
      "metadata": {
        "id": "ZeG9_2lusCTm",
        "colab": {
          "base_uri": "https://localhost:8080/"
        },
        "outputId": "46ff1b0c-1935-4229-d259-47967027f1c9"
      },
      "execution_count": 3,
      "outputs": [
        {
          "output_type": "stream",
          "name": "stdout",
          "text": [
            "array('i', [10, 20, 30])\n"
          ]
        }
      ]
    },
    {
      "cell_type": "code",
      "source": [
        "print(numbers[0]) # gets the 1st element\n",
        "print(numbers[1]) # gets the 2nd element\n",
        "print(numbers[2]) # gets the 3rd element"
      ],
      "metadata": {
        "id": "MN9QEQyNsCXm",
        "colab": {
          "base_uri": "https://localhost:8080/"
        },
        "outputId": "d92f9167-572c-4762-c6a4-534acf1f75c6"
      },
      "execution_count": 4,
      "outputs": [
        {
          "output_type": "stream",
          "name": "stdout",
          "text": [
            "10\n",
            "20\n",
            "30\n"
          ]
        }
      ]
    },
    {
      "cell_type": "code",
      "source": [
        "#search for the index of the value 10\n",
        "print(numbers.index(10))"
      ],
      "metadata": {
        "id": "rMuQb2v2sCbP",
        "colab": {
          "base_uri": "https://localhost:8080/"
        },
        "outputId": "2d5a3148-c996-4d7b-e685-17d2247dfaa4"
      },
      "execution_count": 5,
      "outputs": [
        {
          "output_type": "stream",
          "name": "stdout",
          "text": [
            "0\n"
          ]
        }
      ]
    },
    {
      "cell_type": "code",
      "source": [
        "# loop\n",
        "for number in numbers:\n",
        "    print(number)"
      ],
      "metadata": {
        "id": "zIUWz9JLsCf_",
        "colab": {
          "base_uri": "https://localhost:8080/"
        },
        "outputId": "08e3e197-c096-4b27-8568-ad56c61add7a"
      },
      "execution_count": 6,
      "outputs": [
        {
          "output_type": "stream",
          "name": "stdout",
          "text": [
            "10\n",
            "20\n",
            "30\n"
          ]
        }
      ]
    },
    {
      "cell_type": "code",
      "source": [
        "#prints each individual value in the array\n",
        "for value in range(len(numbers)):\n",
        "    print(numbers[value])"
      ],
      "metadata": {
        "id": "YeR_MDCAsCjq",
        "colab": {
          "base_uri": "https://localhost:8080/"
        },
        "outputId": "09145e85-dc34-45ed-9b48-5e83179d71be"
      },
      "execution_count": 7,
      "outputs": [
        {
          "output_type": "stream",
          "name": "stdout",
          "text": [
            "10\n",
            "20\n",
            "30\n"
          ]
        }
      ]
    },
    {
      "cell_type": "code",
      "source": [
        "x=np.array([1,2,3,4,5,6,7])"
      ],
      "metadata": {
        "id": "H2i9uX_zsCnl"
      },
      "execution_count": 8,
      "outputs": []
    },
    {
      "cell_type": "code",
      "source": [
        "type(x)"
      ],
      "metadata": {
        "colab": {
          "base_uri": "https://localhost:8080/"
        },
        "id": "IHbm_nMUVero",
        "outputId": "c6108d6c-c250-4c1c-85b0-f4ce12d77078"
      },
      "execution_count": 9,
      "outputs": [
        {
          "output_type": "execute_result",
          "data": {
            "text/plain": [
              "numpy.ndarray"
            ]
          },
          "metadata": {},
          "execution_count": 9
        }
      ]
    },
    {
      "cell_type": "code",
      "source": [
        "for value in range(len(x)):\n",
        "  print(x[value])"
      ],
      "metadata": {
        "id": "5DK0tN7xsCrV",
        "colab": {
          "base_uri": "https://localhost:8080/"
        },
        "outputId": "3f7efd91-7066-4ff6-b7d1-cc14062121bb"
      },
      "execution_count": 10,
      "outputs": [
        {
          "output_type": "stream",
          "name": "stdout",
          "text": [
            "1\n",
            "2\n",
            "3\n",
            "4\n",
            "5\n",
            "6\n",
            "7\n"
          ]
        }
      ]
    },
    {
      "cell_type": "code",
      "source": [
        "x=arr.array(\"l\",[1,2,3,4,5,6,7])"
      ],
      "metadata": {
        "id": "WENlj69QsCu_"
      },
      "execution_count": 11,
      "outputs": []
    },
    {
      "cell_type": "code",
      "source": [
        "id(x)"
      ],
      "metadata": {
        "colab": {
          "base_uri": "https://localhost:8080/"
        },
        "id": "DiD34-5-V6Mp",
        "outputId": "9881be83-7409-4b8e-dfa0-33f002a08c15"
      },
      "execution_count": 12,
      "outputs": [
        {
          "output_type": "execute_result",
          "data": {
            "text/plain": [
              "140385803027952"
            ]
          },
          "metadata": {},
          "execution_count": 12
        }
      ]
    },
    {
      "cell_type": "code",
      "source": [
        "type(x)"
      ],
      "metadata": {
        "id": "D7rxmNfOsCyX",
        "colab": {
          "base_uri": "https://localhost:8080/"
        },
        "outputId": "2a00b375-eb91-439c-dcef-f568fedcd6f3"
      },
      "execution_count": 13,
      "outputs": [
        {
          "output_type": "execute_result",
          "data": {
            "text/plain": [
              "array.array"
            ]
          },
          "metadata": {},
          "execution_count": 13
        }
      ]
    },
    {
      "cell_type": "code",
      "source": [
        "for value in range(len(x)):\n",
        "  print(x[value])"
      ],
      "metadata": {
        "id": "2u5XFQTDsC2E",
        "colab": {
          "base_uri": "https://localhost:8080/"
        },
        "outputId": "74c4f6e3-5f75-43b8-b500-3090e217b665"
      },
      "execution_count": 14,
      "outputs": [
        {
          "output_type": "stream",
          "name": "stdout",
          "text": [
            "1\n",
            "2\n",
            "3\n",
            "4\n",
            "5\n",
            "6\n",
            "7\n"
          ]
        }
      ]
    },
    {
      "cell_type": "code",
      "source": [
        "#get the values 10 and 20 only/array slicing\n",
        "print(numbers[:2])  #first to second position"
      ],
      "metadata": {
        "id": "k9wx0tdvsC5_",
        "colab": {
          "base_uri": "https://localhost:8080/"
        },
        "outputId": "bbc393fd-5d42-420d-d122-100236ca8e1c"
      },
      "execution_count": 15,
      "outputs": [
        {
          "output_type": "stream",
          "name": "stdout",
          "text": [
            "array('i', [10, 20])\n"
          ]
        }
      ]
    },
    {
      "cell_type": "code",
      "source": [
        "numbers[0] = 40\n",
        "print(numbers)"
      ],
      "metadata": {
        "id": "SjFFoSAPsDNz",
        "colab": {
          "base_uri": "https://localhost:8080/"
        },
        "outputId": "95e9213b-3e36-4eb1-f839-cb590478d948"
      },
      "execution_count": 16,
      "outputs": [
        {
          "output_type": "stream",
          "name": "stdout",
          "text": [
            "array('i', [40, 20, 30])\n"
          ]
        }
      ]
    },
    {
      "cell_type": "code",
      "source": [
        "numbers = arr.array('i',[10,20,30])\n",
        "print(numbers)"
      ],
      "metadata": {
        "id": "dLazJOt0sDQ8",
        "colab": {
          "base_uri": "https://localhost:8080/"
        },
        "outputId": "e3c39ef6-082f-476e-e8d3-5d72ba4d4d03"
      },
      "execution_count": 17,
      "outputs": [
        {
          "output_type": "stream",
          "name": "stdout",
          "text": [
            "array('i', [10, 20, 30])\n"
          ]
        }
      ]
    },
    {
      "cell_type": "code",
      "source": [
        "numbers.append(100)\n",
        "print(numbers)"
      ],
      "metadata": {
        "id": "v1olsIiRsDVK",
        "colab": {
          "base_uri": "https://localhost:8080/"
        },
        "outputId": "3e575bc5-92b9-40f4-c7e5-5bac86f2bd24"
      },
      "execution_count": 18,
      "outputs": [
        {
          "output_type": "stream",
          "name": "stdout",
          "text": [
            "array('i', [10, 20, 30, 100])\n"
          ]
        }
      ]
    },
    {
      "cell_type": "code",
      "source": [
        "numbers.extend([40,50,60])\n",
        "print(numbers)"
      ],
      "metadata": {
        "colab": {
          "base_uri": "https://localhost:8080/"
        },
        "id": "rrDWUB2QWT69",
        "outputId": "83036a4c-77d4-42f3-a130-bf4beca988ca"
      },
      "execution_count": 19,
      "outputs": [
        {
          "output_type": "stream",
          "name": "stdout",
          "text": [
            "array('i', [10, 20, 30, 100, 40, 50, 60])\n"
          ]
        }
      ]
    },
    {
      "cell_type": "code",
      "source": [
        "print(numbers[2] + numbers[3])"
      ],
      "metadata": {
        "colab": {
          "base_uri": "https://localhost:8080/"
        },
        "id": "ArHsa8YxWUM5",
        "outputId": "bcf76d18-8415-4c53-a16d-9d13b36bcb5e"
      },
      "execution_count": 20,
      "outputs": [
        {
          "output_type": "stream",
          "name": "stdout",
          "text": [
            "130\n"
          ]
        }
      ]
    },
    {
      "cell_type": "code",
      "source": [
        "# Access the item\n",
        "num = np.array([[1,2,3,4,5], [6,7,8,9,10]])\n",
        "print('2nd element on 1st row: ', num[0, 1]) "
      ],
      "metadata": {
        "colab": {
          "base_uri": "https://localhost:8080/"
        },
        "id": "m9-Pyj4VWUQR",
        "outputId": "be530ccf-f20d-4785-b813-a350cbaefb68"
      },
      "execution_count": 21,
      "outputs": [
        {
          "output_type": "stream",
          "name": "stdout",
          "text": [
            "2nd element on 1st row:  2\n"
          ]
        }
      ]
    },
    {
      "cell_type": "code",
      "source": [
        "# 2. numpy methods and functions\n",
        "# new sample list\n",
        "a = [ 21,34,16,19,100, 26,29,41,38,59]\n",
        "ard = np.array(a)\n",
        "print(ard)"
      ],
      "metadata": {
        "colab": {
          "base_uri": "https://localhost:8080/"
        },
        "id": "o_yUPyXpWUU9",
        "outputId": "578bed91-a334-40a1-8979-8d22cd21c0bd"
      },
      "execution_count": 22,
      "outputs": [
        {
          "output_type": "stream",
          "name": "stdout",
          "text": [
            "[ 21  34  16  19 100  26  29  41  38  59]\n"
          ]
        }
      ]
    },
    {
      "cell_type": "code",
      "source": [
        "type(ard)"
      ],
      "metadata": {
        "id": "fffbNEx5sDYf",
        "colab": {
          "base_uri": "https://localhost:8080/"
        },
        "outputId": "86698e64-8d7c-41a7-8b41-e8a72e949c1b"
      },
      "execution_count": 23,
      "outputs": [
        {
          "output_type": "execute_result",
          "data": {
            "text/plain": [
              "numpy.ndarray"
            ]
          },
          "metadata": {},
          "execution_count": 23
        }
      ]
    },
    {
      "cell_type": "code",
      "source": [
        "# the number of axes (dimensions) of the array\n",
        "a = np.ndim(ard)\n",
        "print(a)"
      ],
      "metadata": {
        "colab": {
          "base_uri": "https://localhost:8080/"
        },
        "id": "0ShpsqZ4YWh3",
        "outputId": "a89fe50c-5f89-4c7e-c467-17a1bf23f1e3"
      },
      "execution_count": 24,
      "outputs": [
        {
          "output_type": "stream",
          "name": "stdout",
          "text": [
            "1\n"
          ]
        }
      ]
    },
    {
      "cell_type": "code",
      "source": [
        "# the dimensions of the array\n",
        "b = np.shape(ard)\n",
        "print(b)"
      ],
      "metadata": {
        "colab": {
          "base_uri": "https://localhost:8080/"
        },
        "id": "pUKz3yqrYWxa",
        "outputId": "aa671279-6d18-47dd-eac3-3cee8297af39"
      },
      "execution_count": 25,
      "outputs": [
        {
          "output_type": "stream",
          "name": "stdout",
          "text": [
            "(10,)\n"
          ]
        }
      ]
    },
    {
      "cell_type": "code",
      "source": [
        "print(ard)"
      ],
      "metadata": {
        "colab": {
          "base_uri": "https://localhost:8080/"
        },
        "id": "7troKeOFZJka",
        "outputId": "c7a33052-47b3-427d-c86f-0782720f7839"
      },
      "execution_count": 26,
      "outputs": [
        {
          "output_type": "stream",
          "name": "stdout",
          "text": [
            "[ 21  34  16  19 100  26  29  41  38  59]\n"
          ]
        }
      ]
    },
    {
      "cell_type": "code",
      "source": [
        "c = np.size(ard)\n",
        "print(c)"
      ],
      "metadata": {
        "colab": {
          "base_uri": "https://localhost:8080/"
        },
        "id": "BJ7C5IBKYW1z",
        "outputId": "9a9248ee-232b-4f33-92af-9d89eee4495c"
      },
      "execution_count": 27,
      "outputs": [
        {
          "output_type": "stream",
          "name": "stdout",
          "text": [
            "10\n"
          ]
        }
      ]
    },
    {
      "cell_type": "code",
      "source": [
        "print(ard[1:7:2]) "
      ],
      "metadata": {
        "colab": {
          "base_uri": "https://localhost:8080/"
        },
        "id": "d6To1PCRYW6B",
        "outputId": "8b55c676-b150-4c69-b08e-66f4d7e0500f"
      },
      "execution_count": 28,
      "outputs": [
        {
          "output_type": "stream",
          "name": "stdout",
          "text": [
            "[34 19 26]\n"
          ]
        }
      ]
    },
    {
      "cell_type": "markdown",
      "source": [
        "# data types\n",
        "# Below is a list of all data types in NumPy and the characters used to represent them.\n",
        "\n",
        "# i - integer\n",
        "# b - boolean\n",
        "# u - unsigned integer\n",
        "# f - float\n",
        "# c - complex float\n",
        "# m - timedelta\n",
        "# M - datetime\n",
        "# O - object\n",
        "# S - string\n",
        "# U - unicode string\n",
        "# V - fixed chunk of memory for other type ( void )\n"
      ],
      "metadata": {
        "id": "GcUd4f2HbBDo"
      }
    },
    {
      "cell_type": "code",
      "source": [
        "print(ard.dtype) \n"
      ],
      "metadata": {
        "colab": {
          "base_uri": "https://localhost:8080/"
        },
        "id": "EgQxf0gYYW-g",
        "outputId": "a67ca9cb-8d68-4927-8867-1d3d217d6bc1"
      },
      "execution_count": 29,
      "outputs": [
        {
          "output_type": "stream",
          "name": "stdout",
          "text": [
            "int64\n"
          ]
        }
      ]
    },
    {
      "cell_type": "code",
      "source": [
        "a2 = np.array(['apple', 'banana', 'cherry'])\n",
        "\n",
        "print(a2.dtype) "
      ],
      "metadata": {
        "colab": {
          "base_uri": "https://localhost:8080/"
        },
        "id": "iQjwNpgsYXEf",
        "outputId": "7bc36ef5-efe6-4a22-ae65-c59d9d14eedb"
      },
      "execution_count": 30,
      "outputs": [
        {
          "output_type": "stream",
          "name": "stdout",
          "text": [
            "<U6\n"
          ]
        }
      ]
    },
    {
      "cell_type": "code",
      "source": [
        "# set up array type\n",
        "a3 = np.array([1, 2, 3, 4], dtype='S')\n",
        "print(a3)\n",
        "print(a3.dtype)"
      ],
      "metadata": {
        "colab": {
          "base_uri": "https://localhost:8080/"
        },
        "id": "SwL5QK9GYXJB",
        "outputId": "9cd1d682-d3cf-4438-99bf-9d4982824331"
      },
      "execution_count": 31,
      "outputs": [
        {
          "output_type": "stream",
          "name": "stdout",
          "text": [
            "[b'1' b'2' b'3' b'4']\n",
            "|S1\n"
          ]
        }
      ]
    },
    {
      "cell_type": "code",
      "source": [
        "a0=np.array([\"bangla\",\"english\",\"biology\"])"
      ],
      "metadata": {
        "id": "ti4sCQDAYXOG"
      },
      "execution_count": 32,
      "outputs": []
    },
    {
      "cell_type": "code",
      "source": [
        "a0.dtype"
      ],
      "metadata": {
        "colab": {
          "base_uri": "https://localhost:8080/"
        },
        "id": "UvZLK0uFYXR_",
        "outputId": "fdfa96f1-8668-4d25-cfca-a5d2bc74e1ea"
      },
      "execution_count": 33,
      "outputs": [
        {
          "output_type": "execute_result",
          "data": {
            "text/plain": [
              "dtype('<U7')"
            ]
          },
          "metadata": {},
          "execution_count": 33
        }
      ]
    },
    {
      "cell_type": "code",
      "source": [
        "# The astype() function creates a copy of the array, and allows you to specify the data type as a parameter.\n",
        "a4 = np.array([1.1, 2.1, 3.1])\n",
        "\n",
        "newarr = a4.astype('i')\n",
        "# newarr = a4.astype(int)\n",
        "print(newarr)\n",
        "print(newarr.dtype) "
      ],
      "metadata": {
        "colab": {
          "base_uri": "https://localhost:8080/"
        },
        "id": "9a8bDeiDYXWv",
        "outputId": "8f597e37-1e50-4f40-9c6b-761c854d06d7"
      },
      "execution_count": 34,
      "outputs": [
        {
          "output_type": "stream",
          "name": "stdout",
          "text": [
            "[1 2 3]\n",
            "int32\n"
          ]
        }
      ]
    },
    {
      "cell_type": "code",
      "source": [
        "a5=np.array([1,2,3,4,5],dtype=\"i\")"
      ],
      "metadata": {
        "id": "NzMmvPQHYXbD"
      },
      "execution_count": 35,
      "outputs": []
    },
    {
      "cell_type": "code",
      "source": [
        "a5.dtype"
      ],
      "metadata": {
        "colab": {
          "base_uri": "https://localhost:8080/"
        },
        "id": "Gs9Gr7hNYXfw",
        "outputId": "000e7714-bfb5-47ae-9a03-96bc96695f45"
      },
      "execution_count": 36,
      "outputs": [
        {
          "output_type": "execute_result",
          "data": {
            "text/plain": [
              "dtype('int32')"
            ]
          },
          "metadata": {},
          "execution_count": 36
        }
      ]
    },
    {
      "cell_type": "code",
      "source": [
        "x=[[1,2,3,4],[5,6,7,8]]"
      ],
      "metadata": {
        "id": "Li8GlkRIsDdI"
      },
      "execution_count": 37,
      "outputs": []
    },
    {
      "cell_type": "code",
      "source": [
        "np.ndim(x)"
      ],
      "metadata": {
        "id": "SYv3TOSosDgX",
        "colab": {
          "base_uri": "https://localhost:8080/"
        },
        "outputId": "7ba7c4e2-a896-472f-85f0-10632d2a663b"
      },
      "execution_count": 38,
      "outputs": [
        {
          "output_type": "execute_result",
          "data": {
            "text/plain": [
              "2"
            ]
          },
          "metadata": {},
          "execution_count": 38
        }
      ]
    },
    {
      "cell_type": "code",
      "source": [
        "# (lower, upper, interval)\n",
        "d = np.arange(10,30,3)\n",
        "print(d)"
      ],
      "metadata": {
        "colab": {
          "base_uri": "https://localhost:8080/"
        },
        "id": "bhNnDZ0b533Y",
        "outputId": "cc561c82-1ac4-4cc0-c98b-2f8d9c25c0db"
      },
      "execution_count": 39,
      "outputs": [
        {
          "output_type": "stream",
          "name": "stdout",
          "text": [
            "[10 13 16 19 22 25 28]\n"
          ]
        }
      ]
    },
    {
      "cell_type": "code",
      "source": [
        "# # 50 numbers from 0 to 2 , linear space (lower, upper, no of position)\n",
        "e =np.linspace(10, 30, 11) \n",
        "print(e)"
      ],
      "metadata": {
        "colab": {
          "base_uri": "https://localhost:8080/"
        },
        "id": "cdXV5WdT54Ci",
        "outputId": "f871989a-4272-4654-b700-5adc47782466"
      },
      "execution_count": 40,
      "outputs": [
        {
          "output_type": "stream",
          "name": "stdout",
          "text": [
            "[10. 12. 14. 16. 18. 20. 22. 24. 26. 28. 30.]\n"
          ]
        }
      ]
    },
    {
      "cell_type": "code",
      "source": [
        "print(\"B\\n\", np.linspace(2.0, 3.0, num=5, retstep=True), \"\\n\")\n",
        " \n",
        "# To evaluate sin() in long range\n",
        "x =np.linspace(0, 2, 10)\n",
        "print(\"A\\n\",np.sin(x))"
      ],
      "metadata": {
        "colab": {
          "base_uri": "https://localhost:8080/"
        },
        "id": "xXdzihtB54Lr",
        "outputId": "f4a09d8b-d651-4658-a324-88e669bdcd49"
      },
      "execution_count": 41,
      "outputs": [
        {
          "output_type": "stream",
          "name": "stdout",
          "text": [
            "B\n",
            " (array([2.  , 2.25, 2.5 , 2.75, 3.  ]), 0.25) \n",
            "\n",
            "A\n",
            " [0.         0.22039774 0.42995636 0.6183698  0.77637192 0.8961922\n",
            " 0.9719379  0.99988386 0.9786557  0.90929743]\n"
          ]
        }
      ]
    },
    {
      "cell_type": "code",
      "source": [
        "a = [ 21,34,16,19,100, 26,29,41,38,59]\n",
        "ard = np.array(a)\n",
        "f2 = ard.reshape (2,5)\n",
        "print(f2)"
      ],
      "metadata": {
        "colab": {
          "base_uri": "https://localhost:8080/"
        },
        "id": "HepP9SEt54Rw",
        "outputId": "dc0bc692-6646-4106-afde-e92dbf9b3b88"
      },
      "execution_count": 42,
      "outputs": [
        {
          "output_type": "stream",
          "name": "stdout",
          "text": [
            "[[ 21  34  16  19 100]\n",
            " [ 26  29  41  38  59]]\n"
          ]
        }
      ]
    },
    {
      "cell_type": "code",
      "source": [
        "np.ndim(f2)"
      ],
      "metadata": {
        "colab": {
          "base_uri": "https://localhost:8080/"
        },
        "id": "nJ0RMw1S54Vr",
        "outputId": "432b4e7f-b6aa-4b74-90d1-5558e81804bd"
      },
      "execution_count": 43,
      "outputs": [
        {
          "output_type": "execute_result",
          "data": {
            "text/plain": [
              "2"
            ]
          },
          "metadata": {},
          "execution_count": 43
        }
      ]
    },
    {
      "cell_type": "code",
      "source": [
        "i = np.copy(f2)\n",
        "print(i)"
      ],
      "metadata": {
        "colab": {
          "base_uri": "https://localhost:8080/"
        },
        "id": "WHpukxQZ54ZZ",
        "outputId": "43567128-6f1a-410d-9a2a-4556227164ff"
      },
      "execution_count": 44,
      "outputs": [
        {
          "output_type": "stream",
          "name": "stdout",
          "text": [
            "[[ 21  34  16  19 100]\n",
            " [ 26  29  41  38  59]]\n"
          ]
        }
      ]
    },
    {
      "cell_type": "code",
      "source": [
        "k2 = [[1,2,3],[3,4,5],[7,8,9]]\n",
        "k3 = np.mat(k2)\n",
        "l = np.array_split(k3, 3)\n",
        "print(l)"
      ],
      "metadata": {
        "colab": {
          "base_uri": "https://localhost:8080/"
        },
        "id": "pvaRgm5bM6Wo",
        "outputId": "fc5944d1-4e08-4df2-f03e-333c12a235dc"
      },
      "execution_count": 45,
      "outputs": [
        {
          "output_type": "stream",
          "name": "stdout",
          "text": [
            "[matrix([[1, 2, 3]]), matrix([[3, 4, 5]]), matrix([[7, 8, 9]])]\n"
          ]
        }
      ]
    },
    {
      "cell_type": "code",
      "source": [
        "k3"
      ],
      "metadata": {
        "colab": {
          "base_uri": "https://localhost:8080/"
        },
        "id": "2d5zgR_QM6h7",
        "outputId": "c9f4e3e7-815f-40e0-a1cb-e3d297385ab4"
      },
      "execution_count": 46,
      "outputs": [
        {
          "output_type": "execute_result",
          "data": {
            "text/plain": [
              "matrix([[1, 2, 3],\n",
              "        [3, 4, 5],\n",
              "        [7, 8, 9]])"
            ]
          },
          "metadata": {},
          "execution_count": 46
        }
      ]
    },
    {
      "cell_type": "code",
      "source": [
        "x = np.arange(8.0)\n",
        "np.array_split(x, 3)"
      ],
      "metadata": {
        "colab": {
          "base_uri": "https://localhost:8080/"
        },
        "id": "cV4yAZdGM6uO",
        "outputId": "f4806453-e2bf-4195-836f-b4fcdd5fca29"
      },
      "execution_count": 47,
      "outputs": [
        {
          "output_type": "execute_result",
          "data": {
            "text/plain": [
              "[array([0., 1., 2.]), array([3., 4., 5.]), array([6., 7.])]"
            ]
          },
          "metadata": {},
          "execution_count": 47
        }
      ]
    },
    {
      "cell_type": "code",
      "source": [
        "x"
      ],
      "metadata": {
        "colab": {
          "base_uri": "https://localhost:8080/"
        },
        "id": "LQL0bFsmM646",
        "outputId": "894c6732-2337-4951-e7ac-3e7b3054361f"
      },
      "execution_count": 48,
      "outputs": [
        {
          "output_type": "execute_result",
          "data": {
            "text/plain": [
              "array([0., 1., 2., 3., 4., 5., 6., 7.])"
            ]
          },
          "metadata": {},
          "execution_count": 48
        }
      ]
    },
    {
      "cell_type": "code",
      "source": [
        "arr = np.array([1, 2, 3, 4, 5, 6])\n",
        "\n",
        "newarr = np.array_split(arr, 3)\n",
        "\n",
        "print(newarr)"
      ],
      "metadata": {
        "colab": {
          "base_uri": "https://localhost:8080/"
        },
        "id": "sgJDy9HkM7ER",
        "outputId": "8103b0c9-53ae-488b-f1ad-52e1e87eebba"
      },
      "execution_count": 49,
      "outputs": [
        {
          "output_type": "stream",
          "name": "stdout",
          "text": [
            "[array([1, 2]), array([3, 4]), array([5, 6])]\n"
          ]
        }
      ]
    },
    {
      "cell_type": "code",
      "source": [
        "arr"
      ],
      "metadata": {
        "colab": {
          "base_uri": "https://localhost:8080/"
        },
        "id": "8Y8tN2XuM7K0",
        "outputId": "395df5e5-d9c9-4924-a767-c41af9cc32d2"
      },
      "execution_count": 50,
      "outputs": [
        {
          "output_type": "execute_result",
          "data": {
            "text/plain": [
              "array([1, 2, 3, 4, 5, 6])"
            ]
          },
          "metadata": {},
          "execution_count": 50
        }
      ]
    },
    {
      "cell_type": "code",
      "source": [
        "k3"
      ],
      "metadata": {
        "colab": {
          "base_uri": "https://localhost:8080/"
        },
        "id": "AHv4wskCPDPW",
        "outputId": "e7dbfe4e-6076-4102-a470-be55f1925907"
      },
      "execution_count": 51,
      "outputs": [
        {
          "output_type": "execute_result",
          "data": {
            "text/plain": [
              "matrix([[1, 2, 3],\n",
              "        [3, 4, 5],\n",
              "        [7, 8, 9]])"
            ]
          },
          "metadata": {},
          "execution_count": 51
        }
      ]
    },
    {
      "cell_type": "code",
      "source": [
        "# add column in matrix\n",
        "k331 = [[10,20,30],[30,40,50],[70,80,90]]\n",
        "k333 = np.mat(k331)\n",
        "m = np.column_stack((k3, k333))\n",
        "print(m)"
      ],
      "metadata": {
        "colab": {
          "base_uri": "https://localhost:8080/"
        },
        "id": "wevQBHsfM7Q6",
        "outputId": "d5295f0d-ff6a-4551-dcb8-358528718260"
      },
      "execution_count": 52,
      "outputs": [
        {
          "output_type": "stream",
          "name": "stdout",
          "text": [
            "[[ 1  2  3 10 20 30]\n",
            " [ 3  4  5 30 40 50]\n",
            " [ 7  8  9 70 80 90]]\n"
          ]
        }
      ]
    },
    {
      "cell_type": "code",
      "source": [
        "\n",
        "# k331 = [[[10,20,30],[30,40,50],[70,80,90]]]\n",
        "# np.ndim(k331)"
      ],
      "metadata": {
        "id": "qCNeK_TuYvyr"
      },
      "execution_count": 87,
      "outputs": []
    },
    {
      "cell_type": "code",
      "source": [
        "n = np.diagonal(m)"
      ],
      "metadata": {
        "id": "TG2Q4rWx54dP"
      },
      "execution_count": 83,
      "outputs": []
    },
    {
      "cell_type": "code",
      "source": [
        "n"
      ],
      "metadata": {
        "colab": {
          "base_uri": "https://localhost:8080/"
        },
        "id": "eh1jVcYNQf4n",
        "outputId": "4079b4df-02bc-482f-a237-2fa9ead09438"
      },
      "execution_count": 84,
      "outputs": [
        {
          "output_type": "execute_result",
          "data": {
            "text/plain": [
              "array([1, 4, 9])"
            ]
          },
          "metadata": {},
          "execution_count": 84
        }
      ]
    },
    {
      "cell_type": "code",
      "source": [
        "o = np.arange(0,12).reshape(2, 2,3)\n",
        "print(o)"
      ],
      "metadata": {
        "colab": {
          "base_uri": "https://localhost:8080/"
        },
        "id": "-0VETHAJQfnN",
        "outputId": "2d9787d2-d039-476c-ec0c-e08f67a077ac"
      },
      "execution_count": 55,
      "outputs": [
        {
          "output_type": "stream",
          "name": "stdout",
          "text": [
            "[[[ 0  1  2]\n",
            "  [ 3  4  5]]\n",
            "\n",
            " [[ 6  7  8]\n",
            "  [ 9 10 11]]]\n"
          ]
        }
      ]
    },
    {
      "cell_type": "code",
      "source": [
        "arr = np.array([1, 2, 3, 4, 5, 6, 7, 8, 9, 10, 11, 12])\n",
        "\n",
        "newarr = arr.reshape(2, 3, 2) #(number_of_matrix,rows,columns)\n",
        "\n",
        "print(newarr)"
      ],
      "metadata": {
        "colab": {
          "base_uri": "https://localhost:8080/"
        },
        "id": "dfYCStyySF0F",
        "outputId": "334df861-838e-4c61-a8c9-270d9360077d"
      },
      "execution_count": 56,
      "outputs": [
        {
          "output_type": "stream",
          "name": "stdout",
          "text": [
            "[[[ 1  2]\n",
            "  [ 3  4]\n",
            "  [ 5  6]]\n",
            "\n",
            " [[ 7  8]\n",
            "  [ 9 10]\n",
            "  [11 12]]]\n"
          ]
        }
      ]
    },
    {
      "cell_type": "code",
      "source": [
        "arr = np.array([1, 2, 3, 4, 5, 6, 7, 8])\n",
        "\n",
        "newarr = arr.reshape(2, 2,-1)\n",
        "\n",
        "print(newarr)"
      ],
      "metadata": {
        "colab": {
          "base_uri": "https://localhost:8080/"
        },
        "id": "zRD_DG4WSFu8",
        "outputId": "895d5f30-3d04-44d8-db42-ad98643d2109"
      },
      "execution_count": 57,
      "outputs": [
        {
          "output_type": "stream",
          "name": "stdout",
          "text": [
            "[[[1 2]\n",
            "  [3 4]]\n",
            "\n",
            " [[5 6]\n",
            "  [7 8]]]\n"
          ]
        }
      ]
    },
    {
      "cell_type": "code",
      "source": [
        "arr = np.array([1, 2, 3, 4, 5, 6, 7, 8, 9, 10, 11, 12])\n",
        "\n",
        "newarr = arr.reshape(4, 3)\n",
        "\n",
        "print(newarr)"
      ],
      "metadata": {
        "colab": {
          "base_uri": "https://localhost:8080/"
        },
        "id": "kEfCaO-gSFp4",
        "outputId": "c99f5283-9cde-4d04-f964-ead6b9672b37"
      },
      "execution_count": 58,
      "outputs": [
        {
          "output_type": "stream",
          "name": "stdout",
          "text": [
            "[[ 1  2  3]\n",
            " [ 4  5  6]\n",
            " [ 7  8  9]\n",
            " [10 11 12]]\n"
          ]
        }
      ]
    },
    {
      "cell_type": "code",
      "source": [
        "np.ndim(newarr)"
      ],
      "metadata": {
        "colab": {
          "base_uri": "https://localhost:8080/"
        },
        "id": "YQDXmxyRYlBG",
        "outputId": "aa8dbf20-160b-491c-b512-90e8c99691dd"
      },
      "execution_count": 82,
      "outputs": [
        {
          "output_type": "execute_result",
          "data": {
            "text/plain": [
              "2"
            ]
          },
          "metadata": {},
          "execution_count": 82
        }
      ]
    },
    {
      "cell_type": "code",
      "source": [
        "array4 = np.arange(8).reshape(2, 2, 2)\n",
        "print(\"\\nOriginal array reshaped to 3D : \\n\",array4)"
      ],
      "metadata": {
        "colab": {
          "base_uri": "https://localhost:8080/"
        },
        "id": "tYFdOGL9SFlh",
        "outputId": "ceacf12c-db34-443c-f9ba-a3fdb460bdec"
      },
      "execution_count": 59,
      "outputs": [
        {
          "output_type": "stream",
          "name": "stdout",
          "text": [
            "\n",
            "Original array reshaped to 3D : \n",
            " [[[0 1]\n",
            "  [2 3]]\n",
            "\n",
            " [[4 5]\n",
            "  [6 7]]]\n"
          ]
        }
      ]
    },
    {
      "cell_type": "code",
      "source": [
        "# dsplit\n",
        "p = np.dsplit(o, 3)\n",
        "print(p)"
      ],
      "metadata": {
        "colab": {
          "base_uri": "https://localhost:8080/"
        },
        "id": "v0By5SsDSFgJ",
        "outputId": "ce789269-6e39-4dc2-ecd1-bc4e2819ece1"
      },
      "execution_count": 60,
      "outputs": [
        {
          "output_type": "stream",
          "name": "stdout",
          "text": [
            "[array([[[0],\n",
            "        [3]],\n",
            "\n",
            "       [[6],\n",
            "        [9]]]), array([[[ 1],\n",
            "        [ 4]],\n",
            "\n",
            "       [[ 7],\n",
            "        [10]]]), array([[[ 2],\n",
            "        [ 5]],\n",
            "\n",
            "       [[ 8],\n",
            "        [11]]])]\n"
          ]
        }
      ]
    },
    {
      "cell_type": "code",
      "source": [
        "np.ndim(p)"
      ],
      "metadata": {
        "colab": {
          "base_uri": "https://localhost:8080/"
        },
        "id": "GO-MD9B3YZCn",
        "outputId": "100f5646-1c46-4f5d-83ab-ae7957e849ba"
      },
      "execution_count": 81,
      "outputs": [
        {
          "output_type": "execute_result",
          "data": {
            "text/plain": [
              "4"
            ]
          },
          "metadata": {},
          "execution_count": 81
        }
      ]
    },
    {
      "cell_type": "code",
      "source": [
        "# transpose matrix\n",
        "q = np.array([[1, 2], [3, 4], [5, 6]])\n",
        "j=np.transpose(q)\n",
        "print(\"Before transpose\\n\",q)\n",
        "print(\"\\n\")\n",
        "print(\"After Transpose\\n\",j)"
      ],
      "metadata": {
        "colab": {
          "base_uri": "https://localhost:8080/"
        },
        "id": "aWZWrPxQSFa0",
        "outputId": "5ee641a5-a7f1-47a5-f46d-dae4fa48e5de"
      },
      "execution_count": 73,
      "outputs": [
        {
          "output_type": "stream",
          "name": "stdout",
          "text": [
            "Before transpose\n",
            " [[1 2]\n",
            " [3 4]\n",
            " [5 6]]\n",
            "\n",
            "\n",
            "After Transpose\n",
            " [[1 3 5]\n",
            " [2 4 6]]\n"
          ]
        }
      ]
    },
    {
      "cell_type": "code",
      "source": [
        "np.ndim(j)"
      ],
      "metadata": {
        "colab": {
          "base_uri": "https://localhost:8080/"
        },
        "id": "M4qnkc2iUe0H",
        "outputId": "93d5f10c-e473-4e34-e442-dbc081e41cdd"
      },
      "execution_count": 80,
      "outputs": [
        {
          "output_type": "execute_result",
          "data": {
            "text/plain": [
              "2"
            ]
          },
          "metadata": {},
          "execution_count": 80
        }
      ]
    },
    {
      "cell_type": "code",
      "source": [
        "x = np.array([[1, 2], [3, 4], [5, 6]])"
      ],
      "metadata": {
        "id": "CNpOa8XhSFWY"
      },
      "execution_count": 75,
      "outputs": []
    },
    {
      "cell_type": "code",
      "source": [
        "x"
      ],
      "metadata": {
        "colab": {
          "base_uri": "https://localhost:8080/"
        },
        "id": "_Y2VqghLSFRz",
        "outputId": "43a7944c-f0f3-4eca-df9a-95d44be0b970"
      },
      "execution_count": 76,
      "outputs": [
        {
          "output_type": "execute_result",
          "data": {
            "text/plain": [
              "array([[1, 2],\n",
              "       [3, 4],\n",
              "       [5, 6]])"
            ]
          },
          "metadata": {},
          "execution_count": 76
        }
      ]
    },
    {
      "cell_type": "code",
      "source": [
        "np.ndim(x)"
      ],
      "metadata": {
        "colab": {
          "base_uri": "https://localhost:8080/"
        },
        "id": "TlrKIGqLSFNx",
        "outputId": "dbb25d7a-fd58-4f9b-985e-6db5fc09020b"
      },
      "execution_count": 77,
      "outputs": [
        {
          "output_type": "execute_result",
          "data": {
            "text/plain": [
              "2"
            ]
          },
          "metadata": {},
          "execution_count": 77
        }
      ]
    },
    {
      "cell_type": "code",
      "source": [
        "# NumPy Joining Array\n",
        "p1 = np.array([1, 2, 3])\n",
        "p2 = np.array([4, 5, 6])\n",
        "\n",
        "p3 = np.concatenate((p1, p2))\n",
        "print(p3)"
      ],
      "metadata": {
        "colab": {
          "base_uri": "https://localhost:8080/"
        },
        "id": "ochzOt3FSFIC",
        "outputId": "68ad7951-5faf-4adb-a897-f3d828906816"
      },
      "execution_count": 79,
      "outputs": [
        {
          "output_type": "stream",
          "name": "stdout",
          "text": [
            "[1 2 3 4 5 6]\n"
          ]
        }
      ]
    },
    {
      "cell_type": "code",
      "source": [
        "\n",
        "# Join two 2-D arrays along rows (axis=1)\n",
        "q1 = np.array([[1, 2], [3, 4]])\n",
        "q2 = np.array([[5, 6], [7, 8]])\n",
        "\n",
        "q3 = np.concatenate((q1, q2), axis=1)\n",
        "print(q3)"
      ],
      "metadata": {
        "colab": {
          "base_uri": "https://localhost:8080/"
        },
        "id": "nw8KHk4ISFDu",
        "outputId": "76e71793-6f0b-449b-92bb-39f59228b3e6"
      },
      "execution_count": 91,
      "outputs": [
        {
          "output_type": "stream",
          "name": "stdout",
          "text": [
            "[[1 2 5 6]\n",
            " [3 4 7 8]]\n"
          ]
        }
      ]
    },
    {
      "cell_type": "code",
      "source": [
        "# Joining Arrays Using Stack Functions\n",
        "r1 = np.array([1, 2, 3])\n",
        "r2 = np.array([4, 5, 6])\n",
        "\n",
        "r3 = np.stack((r1, r2), axis=1)\n",
        "print(r3) \n"
      ],
      "metadata": {
        "colab": {
          "base_uri": "https://localhost:8080/"
        },
        "id": "tUdnjt7USE_L",
        "outputId": "b67223a3-1ddb-4be7-d28f-97d25d468120"
      },
      "execution_count": 92,
      "outputs": [
        {
          "output_type": "stream",
          "name": "stdout",
          "text": [
            "[[1 4]\n",
            " [2 5]\n",
            " [3 6]]\n"
          ]
        }
      ]
    },
    {
      "cell_type": "code",
      "source": [
        "# Stacking Along Rows/ similar to concatanate\n",
        "s1 = np.array([1, 2, 3])\n",
        "s2 = np.array([4, 5, 6])\n",
        "\n",
        "s3 = np.hstack((s1, s2))\n",
        "print(s3)"
      ],
      "metadata": {
        "colab": {
          "base_uri": "https://localhost:8080/"
        },
        "id": "5oEycwXDSE6y",
        "outputId": "a4a22ee9-94a5-4f0b-a447-65982d6356bc"
      },
      "execution_count": 93,
      "outputs": [
        {
          "output_type": "stream",
          "name": "stdout",
          "text": [
            "[1 2 3 4 5 6]\n"
          ]
        }
      ]
    },
    {
      "cell_type": "code",
      "source": [
        "# Stacking Along Columns\n",
        "t1 = np.array([1, 2, 3])\n",
        "t2 = np.array([4, 5, 6])\n",
        "\n",
        "t3 = np.vstack((t1, t2))\n",
        "print(t3)"
      ],
      "metadata": {
        "colab": {
          "base_uri": "https://localhost:8080/"
        },
        "id": "G46RnnEPSE2D",
        "outputId": "74da3c6c-35f7-4541-eb04-11d2c2bdb49b"
      },
      "execution_count": 94,
      "outputs": [
        {
          "output_type": "stream",
          "name": "stdout",
          "text": [
            "[[1 2 3]\n",
            " [4 5 6]]\n"
          ]
        }
      ]
    },
    {
      "cell_type": "code",
      "source": [
        "# Stacking Along Height (depth)\n",
        "u1 = np.array([1, 2, 3])\n",
        "u2 = np.array([4, 5, 6])\n",
        "\n",
        "u3 = np.dstack((u1, u2))\n",
        "print(u3)"
      ],
      "metadata": {
        "colab": {
          "base_uri": "https://localhost:8080/"
        },
        "id": "KJ512inkSEw4",
        "outputId": "8d9125fb-172e-494f-9d3b-130ee6f9359f"
      },
      "execution_count": 95,
      "outputs": [
        {
          "output_type": "stream",
          "name": "stdout",
          "text": [
            "[[[1 4]\n",
            "  [2 5]\n",
            "  [3 6]]]\n"
          ]
        }
      ]
    },
    {
      "cell_type": "code",
      "source": [],
      "metadata": {
        "id": "OjuOdHfpSErg"
      },
      "execution_count": 65,
      "outputs": []
    },
    {
      "cell_type": "code",
      "source": [],
      "metadata": {
        "id": "LUDYIp4GSEiy"
      },
      "execution_count": 65,
      "outputs": []
    }
  ]
}