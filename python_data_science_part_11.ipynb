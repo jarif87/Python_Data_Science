{
  "nbformat": 4,
  "nbformat_minor": 0,
  "metadata": {
    "colab": {
      "provenance": []
    },
    "kernelspec": {
      "name": "python3",
      "display_name": "Python 3"
    },
    "language_info": {
      "name": "python"
    }
  },
  "cells": [
    {
      "cell_type": "code",
      "execution_count": 29,
      "metadata": {
        "id": "F4SiedoZotjK"
      },
      "outputs": [],
      "source": [
        "import numpy as np\n",
        "import statistics\n",
        "from scipy import stats\n",
        "from collections import Counter\n",
        "import pandas as pd\n",
        "import matplotlib.pyplot as plt"
      ]
    },
    {
      "cell_type": "markdown",
      "source": [
        "# In order to determine standard deviation:\n",
        "* Determine the mean (the average of all the numbers) by adding up all the data pieces (xi) and dividing by the number of pieces of data (n)\n",
        "* Subtract the mean (x̄) from each value.\n",
        "* Square each of those differences.\n",
        "\n",
        "* Determine the average of the squared numbers calculated in #3 to find the variance. (In sample sizes, subtract 1 from the total number of values when finding the average.)\n",
        "* Find the square root of the variance. That’s the standard deviation!\n",
        "\n",
        "\n",
        "---\n",
        "\n",
        "\n",
        "##  For example: Take the values 2, 1, 3, 2 and 4\n",
        "\n",
        "1. Determine the mean (average):\n",
        "\n",
        "\n",
        "```\n",
        "2 + 1 +3 + 2 + 4 = 12\n",
        "12 ÷ 5 = 2.4 (mean)\n",
        "```\n",
        "2. Subtract the mean from each value:\n",
        "\n",
        "\n",
        "```\n",
        "2 - 2.4 = -0.4\n",
        "1 - 2.4 = -1.4\n",
        "3 - 2.4 = 0.6\n",
        "2 - 2.4 = -0.4\n",
        "4 - 2.4 = 1.6\n",
        "```\n",
        "\n",
        "3. Square each of those differences:\n",
        "\n",
        "```\n",
        "-0.4 x -0.4 = 0.16\n",
        "-1.4 x -1.4 = 1.96\n",
        "0.6 x 0.6 = 0.36\n",
        "-0.4 x -0.4 = 0.16\n",
        "1.6 x 1.6 = 2.56\n",
        "```\n",
        "4. Determine the average of those squared numbers to get the variance.\n",
        "\n",
        "```\n",
        "0.16 + 1.96 + 0.36 + 0.16 + 2.56 = 5.2\n",
        "5.2 ÷ 5 = 1.04 (variance)\n",
        "```\n",
        "5. Find the square root of the variance.\n",
        "\n",
        "```\n",
        "Square root of 1.04 = 1.01\n",
        "```\n",
        "The standard deviation of the values 2, 1, 3, 2 and 4 is 1.01."
      ],
      "metadata": {
        "id": "TZr6r1OcvF37"
      }
    },
    {
      "cell_type": "markdown",
      "source": [
        "# Mean"
      ],
      "metadata": {
        "id": "dQyGDG0Dqk9a"
      }
    },
    {
      "cell_type": "code",
      "source": [
        "score = [76, 59, 71, 83, 77, 69, 64, 51, 58, 77]\n",
        "\n",
        "m = np.mean(score)\n",
        "print(m)"
      ],
      "metadata": {
        "colab": {
          "base_uri": "https://localhost:8080/"
        },
        "id": "h5iszmDIoy1J",
        "outputId": "77a4eb55-af7a-4964-b60f-7310424dad46"
      },
      "execution_count": 2,
      "outputs": [
        {
          "output_type": "stream",
          "name": "stdout",
          "text": [
            "68.5\n"
          ]
        }
      ]
    },
    {
      "cell_type": "code",
      "source": [
        "sum1 = sum(score)\n",
        "items = len(score)\n",
        "mean_v = sum1 / items\n",
        "print(mean_v)"
      ],
      "metadata": {
        "colab": {
          "base_uri": "https://localhost:8080/"
        },
        "id": "TU3KbC5goy5D",
        "outputId": "990e3ed9-ebd3-41cb-ba14-34ec1ce85f41"
      },
      "execution_count": 3,
      "outputs": [
        {
          "output_type": "stream",
          "name": "stdout",
          "text": [
            "68.5\n"
          ]
        }
      ]
    },
    {
      "cell_type": "markdown",
      "source": [
        "# using function"
      ],
      "metadata": {
        "id": "0C5c8sm-qtpH"
      }
    },
    {
      "cell_type": "code",
      "source": [
        "def my_mean(x):\n",
        "    return print(sum(x) / len(x))\n",
        "\n",
        "my_mean(score)"
      ],
      "metadata": {
        "colab": {
          "base_uri": "https://localhost:8080/"
        },
        "id": "NjmS0dsdoy9V",
        "outputId": "3e3a78de-913e-4362-b36c-dd29f5d4540f"
      },
      "execution_count": 4,
      "outputs": [
        {
          "output_type": "stream",
          "name": "stdout",
          "text": [
            "68.5\n"
          ]
        }
      ]
    },
    {
      "cell_type": "code",
      "source": [
        "x = [76, 59, 71, 83, 77, 69, 64, 51, 58, 77]"
      ],
      "metadata": {
        "id": "x_jSPgyKozAu"
      },
      "execution_count": 5,
      "outputs": []
    },
    {
      "cell_type": "code",
      "source": [
        "m2 = statistics.mean(x)\n",
        "\n",
        "print(m2)"
      ],
      "metadata": {
        "colab": {
          "base_uri": "https://localhost:8080/"
        },
        "id": "ZFyFg45bozFM",
        "outputId": "91cdfecd-d834-4a03-c97b-34d877640e88"
      },
      "execution_count": 6,
      "outputs": [
        {
          "output_type": "stream",
          "name": "stdout",
          "text": [
            "68.5\n"
          ]
        }
      ]
    },
    {
      "cell_type": "markdown",
      "source": [
        "# median"
      ],
      "metadata": {
        "id": "EF6VaHHXrS1N"
      }
    },
    {
      "cell_type": "code",
      "source": [
        "score = [76, 59, 71, 83, 77, 69, 64, 51, 58, 77]"
      ],
      "metadata": {
        "id": "J6guXIVQrbZ3"
      },
      "execution_count": 7,
      "outputs": []
    },
    {
      "cell_type": "code",
      "source": [
        "median = np.median(score)\n",
        "print(median)"
      ],
      "metadata": {
        "colab": {
          "base_uri": "https://localhost:8080/"
        },
        "id": "nwj7YfrsozJO",
        "outputId": "14a4d56d-a73f-4ca2-8e59-e99ff415ab18"
      },
      "execution_count": 8,
      "outputs": [
        {
          "output_type": "stream",
          "name": "stdout",
          "text": [
            "70.0\n"
          ]
        }
      ]
    },
    {
      "cell_type": "code",
      "source": [
        "# using library\n",
        "med_2 = statistics.median(score)"
      ],
      "metadata": {
        "id": "NNgZOKozozYz"
      },
      "execution_count": 9,
      "outputs": []
    },
    {
      "cell_type": "code",
      "source": [
        "print(med_2)"
      ],
      "metadata": {
        "colab": {
          "base_uri": "https://localhost:8080/"
        },
        "id": "RBPFMqFHozdZ",
        "outputId": "3d98e64f-c55e-47ad-af34-7ad3fee50d7e"
      },
      "execution_count": 10,
      "outputs": [
        {
          "output_type": "stream",
          "name": "stdout",
          "text": [
            "70.0\n"
          ]
        }
      ]
    },
    {
      "cell_type": "markdown",
      "source": [
        "# Median using function"
      ],
      "metadata": {
        "id": "uo8LqQJytrwI"
      }
    },
    {
      "cell_type": "code",
      "source": [
        "# using function\n",
        "\n",
        "def my_median(x):\n",
        "    n = len(x)\n",
        "    index = n // 2\n",
        "\n",
        "    return sum(sorted(x)[index -1: index +1]) /2\n",
        "    "
      ],
      "metadata": {
        "id": "VFY-tBvNozi3"
      },
      "execution_count": 11,
      "outputs": []
    },
    {
      "cell_type": "code",
      "source": [
        "print(my_median(score))"
      ],
      "metadata": {
        "colab": {
          "base_uri": "https://localhost:8080/"
        },
        "id": "I8MK6O3XoznF",
        "outputId": "d2d7935e-9923-496e-96eb-0399152c1ac0"
      },
      "execution_count": 12,
      "outputs": [
        {
          "output_type": "stream",
          "name": "stdout",
          "text": [
            "70.0\n"
          ]
        }
      ]
    },
    {
      "cell_type": "markdown",
      "source": [
        "# Mode"
      ],
      "metadata": {
        "id": "RDh1W6m_uAEX"
      }
    },
    {
      "cell_type": "code",
      "source": [
        "# mode = stats.mode(score)\n",
        "# print(mode)\n"
      ],
      "metadata": {
        "id": "JvWVedm_ozrs"
      },
      "execution_count": 13,
      "outputs": []
    },
    {
      "cell_type": "code",
      "source": [
        "mode2 = statistics.mode(score)\n",
        "print(mode2)"
      ],
      "metadata": {
        "colab": {
          "base_uri": "https://localhost:8080/"
        },
        "id": "TsnsBZQqozvV",
        "outputId": "e3cd571d-f173-4b6c-f3f5-7a0c0c5b68fc"
      },
      "execution_count": 14,
      "outputs": [
        {
          "output_type": "stream",
          "name": "stdout",
          "text": [
            "77\n"
          ]
        }
      ]
    },
    {
      "cell_type": "markdown",
      "source": [
        "# Mode using Function"
      ],
      "metadata": {
        "id": "cRSWSdqxuW76"
      }
    },
    {
      "cell_type": "code",
      "source": [
        "def my_mode(x):\n",
        "    c = Counter(x)\n",
        "    \n",
        "    return [k for k, v in c.items() if v==c.most_common(20)[0][1]]\n",
        "\n",
        "print(my_mode(score))\n"
      ],
      "metadata": {
        "colab": {
          "base_uri": "https://localhost:8080/"
        },
        "id": "U1EA3zl1oz3t",
        "outputId": "d728de1c-abaf-41b0-8d29-167e3ca9ae87"
      },
      "execution_count": 15,
      "outputs": [
        {
          "output_type": "stream",
          "name": "stdout",
          "text": [
            "[77]\n"
          ]
        }
      ]
    },
    {
      "cell_type": "code",
      "source": [
        "# Standard deviation\n",
        "stdev = np.std(score)\n",
        "print(stdev)"
      ],
      "metadata": {
        "colab": {
          "base_uri": "https://localhost:8080/"
        },
        "id": "z6890S1Poz6-",
        "outputId": "f69a21ba-7cab-40fc-fa2a-5090c971d09c"
      },
      "execution_count": 16,
      "outputs": [
        {
          "output_type": "stream",
          "name": "stdout",
          "text": [
            "9.718538984847465\n"
          ]
        }
      ]
    },
    {
      "cell_type": "code",
      "source": [
        "# variance\n",
        "var1 = np.var(score)\n",
        "print(var1)"
      ],
      "metadata": {
        "colab": {
          "base_uri": "https://localhost:8080/"
        },
        "id": "53Ip32Xeoz_1",
        "outputId": "50080315-6c42-4691-9392-46269959e902"
      },
      "execution_count": 17,
      "outputs": [
        {
          "output_type": "stream",
          "name": "stdout",
          "text": [
            "94.45\n"
          ]
        }
      ]
    },
    {
      "cell_type": "markdown",
      "source": [
        "## percentile()function used to compute the nth percentile of the given data (array elements) along the specified axis.\n",
        "* Parameters : arr :input array. n : percentile value"
      ],
      "metadata": {
        "id": "zNUtLic71HHC"
      }
    },
    {
      "cell_type": "code",
      "source": [
        "# percentiles\n",
        "\n",
        "ages = [5,31,43,48,50,41,7,11,15,39,80,82,32,2,8,6,25,36,27,61,31]\n",
        "\n",
        "prtile = np.percentile(ages, 100)\n",
        "\n",
        "print(prtile)"
      ],
      "metadata": {
        "colab": {
          "base_uri": "https://localhost:8080/"
        },
        "id": "7CmPbTI4o0Dw",
        "outputId": "e7790acf-9e68-4c20-d7d3-86d63074b67b"
      },
      "execution_count": 18,
      "outputs": [
        {
          "output_type": "stream",
          "name": "stdout",
          "text": [
            "82.0\n"
          ]
        }
      ]
    },
    {
      "cell_type": "code",
      "source": [
        "arr = [20, 2, 7, 1, 34]\n",
        "print(\"arr : \", arr)\n",
        "print(\"50th percentile of arr : \",np.percentile(arr, 50))\n",
        "print(\"25th percentile of arr : \",np.percentile(arr, 25))\n",
        "print(\"75th percentile of arr : \",np.percentile(arr, 75))"
      ],
      "metadata": {
        "colab": {
          "base_uri": "https://localhost:8080/"
        },
        "id": "6i5DPdwbo0KG",
        "outputId": "2db3ac15-d9dd-4784-d01a-38b1be8329e0"
      },
      "execution_count": 19,
      "outputs": [
        {
          "output_type": "stream",
          "name": "stdout",
          "text": [
            "arr :  [20, 2, 7, 1, 34]\n",
            "50th percentile of arr :  7.0\n",
            "25th percentile of arr :  2.0\n",
            "75th percentile of arr :  20.0\n"
          ]
        }
      ]
    },
    {
      "cell_type": "code",
      "source": [
        "arr = [[14, 17, 12, 33, 44], \n",
        "       [15, 6, 27, 8, 19],\n",
        "       [23, 2, 54, 1, 4,]]\n",
        "print(\"\\narr : \\n\", arr)\n",
        "    \n",
        "# Percentile of the flattened array\n",
        "print(\"\\n50th Percentile of arr, axis = None : \",np.percentile(arr, 50))\n",
        "print(\"0th Percentile of arr, axis = None : \",np.percentile(arr, 0))\n",
        "    \n",
        "# Percentile along the axis = 0\n",
        "print(\"\\n50th Percentile of arr, axis = 0 : \",np.percentile(arr, 50, axis =0))\n",
        "print(\"0th Percentile of arr, axis = 0 : \",np.percentile(arr, 0, axis =0))"
      ],
      "metadata": {
        "colab": {
          "base_uri": "https://localhost:8080/"
        },
        "id": "P0lRBmpqo0OA",
        "outputId": "be24a495-1115-43f1-8a6d-0f5df0e5ab63"
      },
      "execution_count": 20,
      "outputs": [
        {
          "output_type": "stream",
          "name": "stdout",
          "text": [
            "\n",
            "arr : \n",
            " [[14, 17, 12, 33, 44], [15, 6, 27, 8, 19], [23, 2, 54, 1, 4]]\n",
            "\n",
            "50th Percentile of arr, axis = None :  15.0\n",
            "0th Percentile of arr, axis = None :  1.0\n",
            "\n",
            "50th Percentile of arr, axis = 0 :  [15.  6. 27.  8. 19.]\n",
            "0th Percentile of arr, axis = 0 :  [14.  2. 12.  1.  4.]\n"
          ]
        }
      ]
    },
    {
      "cell_type": "code",
      "source": [
        "df=pd.read_csv(\"/content/top50.csv\",encoding='latin-1')"
      ],
      "metadata": {
        "id": "qEw581l_o0SV"
      },
      "execution_count": 24,
      "outputs": []
    },
    {
      "cell_type": "code",
      "source": [
        "df.head()"
      ],
      "metadata": {
        "colab": {
          "base_uri": "https://localhost:8080/",
          "height": 461
        },
        "id": "QGxVrLdMo0Ut",
        "outputId": "1b9f81cc-2b65-4994-a248-581c46e6b703"
      },
      "execution_count": 25,
      "outputs": [
        {
          "output_type": "execute_result",
          "data": {
            "text/plain": [
              "   Unnamed: 0                       Track.Name    Artist.Name           Genre  \\\n",
              "0           1                         Señorita   Shawn Mendes    canadian pop   \n",
              "1           2                            China       Anuel AA  reggaeton flow   \n",
              "2           3    boyfriend (with Social House)  Ariana Grande       dance pop   \n",
              "3           4  Beautiful People (feat. Khalid)     Ed Sheeran             pop   \n",
              "4           5      Goodbyes (Feat. Young Thug)    Post Malone         dfw rap   \n",
              "\n",
              "   Beats.Per.Minute  Energy  Danceability  Loudness..dB..  Liveness  Valence.  \\\n",
              "0               117      55            76              -6         8        75   \n",
              "1               105      81            79              -4         8        61   \n",
              "2               190      80            40              -4        16        70   \n",
              "3                93      65            64              -8         8        55   \n",
              "4               150      65            58              -4        11        18   \n",
              "\n",
              "   Length.  Acousticness..  Speechiness.  Popularity  \n",
              "0      191               4             3          79  \n",
              "1      302               8             9          92  \n",
              "2      186              12            46          85  \n",
              "3      198              12            19          86  \n",
              "4      175              45             7          94  "
            ],
            "text/html": [
              "\n",
              "  <div id=\"df-17003323-33e6-4742-81c9-392845395024\">\n",
              "    <div class=\"colab-df-container\">\n",
              "      <div>\n",
              "<style scoped>\n",
              "    .dataframe tbody tr th:only-of-type {\n",
              "        vertical-align: middle;\n",
              "    }\n",
              "\n",
              "    .dataframe tbody tr th {\n",
              "        vertical-align: top;\n",
              "    }\n",
              "\n",
              "    .dataframe thead th {\n",
              "        text-align: right;\n",
              "    }\n",
              "</style>\n",
              "<table border=\"1\" class=\"dataframe\">\n",
              "  <thead>\n",
              "    <tr style=\"text-align: right;\">\n",
              "      <th></th>\n",
              "      <th>Unnamed: 0</th>\n",
              "      <th>Track.Name</th>\n",
              "      <th>Artist.Name</th>\n",
              "      <th>Genre</th>\n",
              "      <th>Beats.Per.Minute</th>\n",
              "      <th>Energy</th>\n",
              "      <th>Danceability</th>\n",
              "      <th>Loudness..dB..</th>\n",
              "      <th>Liveness</th>\n",
              "      <th>Valence.</th>\n",
              "      <th>Length.</th>\n",
              "      <th>Acousticness..</th>\n",
              "      <th>Speechiness.</th>\n",
              "      <th>Popularity</th>\n",
              "    </tr>\n",
              "  </thead>\n",
              "  <tbody>\n",
              "    <tr>\n",
              "      <th>0</th>\n",
              "      <td>1</td>\n",
              "      <td>Señorita</td>\n",
              "      <td>Shawn Mendes</td>\n",
              "      <td>canadian pop</td>\n",
              "      <td>117</td>\n",
              "      <td>55</td>\n",
              "      <td>76</td>\n",
              "      <td>-6</td>\n",
              "      <td>8</td>\n",
              "      <td>75</td>\n",
              "      <td>191</td>\n",
              "      <td>4</td>\n",
              "      <td>3</td>\n",
              "      <td>79</td>\n",
              "    </tr>\n",
              "    <tr>\n",
              "      <th>1</th>\n",
              "      <td>2</td>\n",
              "      <td>China</td>\n",
              "      <td>Anuel AA</td>\n",
              "      <td>reggaeton flow</td>\n",
              "      <td>105</td>\n",
              "      <td>81</td>\n",
              "      <td>79</td>\n",
              "      <td>-4</td>\n",
              "      <td>8</td>\n",
              "      <td>61</td>\n",
              "      <td>302</td>\n",
              "      <td>8</td>\n",
              "      <td>9</td>\n",
              "      <td>92</td>\n",
              "    </tr>\n",
              "    <tr>\n",
              "      <th>2</th>\n",
              "      <td>3</td>\n",
              "      <td>boyfriend (with Social House)</td>\n",
              "      <td>Ariana Grande</td>\n",
              "      <td>dance pop</td>\n",
              "      <td>190</td>\n",
              "      <td>80</td>\n",
              "      <td>40</td>\n",
              "      <td>-4</td>\n",
              "      <td>16</td>\n",
              "      <td>70</td>\n",
              "      <td>186</td>\n",
              "      <td>12</td>\n",
              "      <td>46</td>\n",
              "      <td>85</td>\n",
              "    </tr>\n",
              "    <tr>\n",
              "      <th>3</th>\n",
              "      <td>4</td>\n",
              "      <td>Beautiful People (feat. Khalid)</td>\n",
              "      <td>Ed Sheeran</td>\n",
              "      <td>pop</td>\n",
              "      <td>93</td>\n",
              "      <td>65</td>\n",
              "      <td>64</td>\n",
              "      <td>-8</td>\n",
              "      <td>8</td>\n",
              "      <td>55</td>\n",
              "      <td>198</td>\n",
              "      <td>12</td>\n",
              "      <td>19</td>\n",
              "      <td>86</td>\n",
              "    </tr>\n",
              "    <tr>\n",
              "      <th>4</th>\n",
              "      <td>5</td>\n",
              "      <td>Goodbyes (Feat. Young Thug)</td>\n",
              "      <td>Post Malone</td>\n",
              "      <td>dfw rap</td>\n",
              "      <td>150</td>\n",
              "      <td>65</td>\n",
              "      <td>58</td>\n",
              "      <td>-4</td>\n",
              "      <td>11</td>\n",
              "      <td>18</td>\n",
              "      <td>175</td>\n",
              "      <td>45</td>\n",
              "      <td>7</td>\n",
              "      <td>94</td>\n",
              "    </tr>\n",
              "  </tbody>\n",
              "</table>\n",
              "</div>\n",
              "      <button class=\"colab-df-convert\" onclick=\"convertToInteractive('df-17003323-33e6-4742-81c9-392845395024')\"\n",
              "              title=\"Convert this dataframe to an interactive table.\"\n",
              "              style=\"display:none;\">\n",
              "        \n",
              "  <svg xmlns=\"http://www.w3.org/2000/svg\" height=\"24px\"viewBox=\"0 0 24 24\"\n",
              "       width=\"24px\">\n",
              "    <path d=\"M0 0h24v24H0V0z\" fill=\"none\"/>\n",
              "    <path d=\"M18.56 5.44l.94 2.06.94-2.06 2.06-.94-2.06-.94-.94-2.06-.94 2.06-2.06.94zm-11 1L8.5 8.5l.94-2.06 2.06-.94-2.06-.94L8.5 2.5l-.94 2.06-2.06.94zm10 10l.94 2.06.94-2.06 2.06-.94-2.06-.94-.94-2.06-.94 2.06-2.06.94z\"/><path d=\"M17.41 7.96l-1.37-1.37c-.4-.4-.92-.59-1.43-.59-.52 0-1.04.2-1.43.59L10.3 9.45l-7.72 7.72c-.78.78-.78 2.05 0 2.83L4 21.41c.39.39.9.59 1.41.59.51 0 1.02-.2 1.41-.59l7.78-7.78 2.81-2.81c.8-.78.8-2.07 0-2.86zM5.41 20L4 18.59l7.72-7.72 1.47 1.35L5.41 20z\"/>\n",
              "  </svg>\n",
              "      </button>\n",
              "      \n",
              "  <style>\n",
              "    .colab-df-container {\n",
              "      display:flex;\n",
              "      flex-wrap:wrap;\n",
              "      gap: 12px;\n",
              "    }\n",
              "\n",
              "    .colab-df-convert {\n",
              "      background-color: #E8F0FE;\n",
              "      border: none;\n",
              "      border-radius: 50%;\n",
              "      cursor: pointer;\n",
              "      display: none;\n",
              "      fill: #1967D2;\n",
              "      height: 32px;\n",
              "      padding: 0 0 0 0;\n",
              "      width: 32px;\n",
              "    }\n",
              "\n",
              "    .colab-df-convert:hover {\n",
              "      background-color: #E2EBFA;\n",
              "      box-shadow: 0px 1px 2px rgba(60, 64, 67, 0.3), 0px 1px 3px 1px rgba(60, 64, 67, 0.15);\n",
              "      fill: #174EA6;\n",
              "    }\n",
              "\n",
              "    [theme=dark] .colab-df-convert {\n",
              "      background-color: #3B4455;\n",
              "      fill: #D2E3FC;\n",
              "    }\n",
              "\n",
              "    [theme=dark] .colab-df-convert:hover {\n",
              "      background-color: #434B5C;\n",
              "      box-shadow: 0px 1px 3px 1px rgba(0, 0, 0, 0.15);\n",
              "      filter: drop-shadow(0px 1px 2px rgba(0, 0, 0, 0.3));\n",
              "      fill: #FFFFFF;\n",
              "    }\n",
              "  </style>\n",
              "\n",
              "      <script>\n",
              "        const buttonEl =\n",
              "          document.querySelector('#df-17003323-33e6-4742-81c9-392845395024 button.colab-df-convert');\n",
              "        buttonEl.style.display =\n",
              "          google.colab.kernel.accessAllowed ? 'block' : 'none';\n",
              "\n",
              "        async function convertToInteractive(key) {\n",
              "          const element = document.querySelector('#df-17003323-33e6-4742-81c9-392845395024');\n",
              "          const dataTable =\n",
              "            await google.colab.kernel.invokeFunction('convertToInteractive',\n",
              "                                                     [key], {});\n",
              "          if (!dataTable) return;\n",
              "\n",
              "          const docLinkHtml = 'Like what you see? Visit the ' +\n",
              "            '<a target=\"_blank\" href=https://colab.research.google.com/notebooks/data_table.ipynb>data table notebook</a>'\n",
              "            + ' to learn more about interactive tables.';\n",
              "          element.innerHTML = '';\n",
              "          dataTable['output_type'] = 'display_data';\n",
              "          await google.colab.output.renderOutput(dataTable, element);\n",
              "          const docLink = document.createElement('div');\n",
              "          docLink.innerHTML = docLinkHtml;\n",
              "          element.appendChild(docLink);\n",
              "        }\n",
              "      </script>\n",
              "    </div>\n",
              "  </div>\n",
              "  "
            ]
          },
          "metadata": {},
          "execution_count": 25
        }
      ]
    },
    {
      "cell_type": "code",
      "source": [
        "en = df['Energy']"
      ],
      "metadata": {
        "id": "4Tb7X9xXo0aW"
      },
      "execution_count": 26,
      "outputs": []
    },
    {
      "cell_type": "code",
      "source": [
        "print(en)"
      ],
      "metadata": {
        "colab": {
          "base_uri": "https://localhost:8080/"
        },
        "id": "AesuT-0uo0ez",
        "outputId": "3e7259ea-c55a-474f-98dc-ead1e6f9cc10"
      },
      "execution_count": 27,
      "outputs": [
        {
          "output_type": "stream",
          "name": "stdout",
          "text": [
            "0     55\n",
            "1     81\n",
            "2     80\n",
            "3     65\n",
            "4     65\n",
            "5     68\n",
            "6     64\n",
            "7     68\n",
            "8     62\n",
            "9     43\n",
            "10    62\n",
            "11    71\n",
            "12    41\n",
            "13    79\n",
            "14    50\n",
            "15    45\n",
            "16    65\n",
            "17    48\n",
            "18    39\n",
            "19    62\n",
            "20    74\n",
            "21    59\n",
            "22    79\n",
            "23    78\n",
            "24    45\n",
            "25    82\n",
            "26    59\n",
            "27    46\n",
            "28    86\n",
            "29    79\n",
            "30    51\n",
            "31    32\n",
            "32    71\n",
            "33    59\n",
            "34    88\n",
            "35    72\n",
            "36    70\n",
            "37    82\n",
            "38    73\n",
            "39    56\n",
            "40    68\n",
            "41    68\n",
            "42    39\n",
            "43    40\n",
            "44    69\n",
            "45    62\n",
            "46    75\n",
            "47    79\n",
            "48    70\n",
            "49    79\n",
            "Name: Energy, dtype: int64\n"
          ]
        }
      ]
    },
    {
      "cell_type": "code",
      "source": [
        "print(\"mean: \", np.mean(en))\n",
        "print(\"median: \", np.median(en))\n",
        "print(\"mode: \", statistics.mode(en))\n",
        "print(\"standar dev: \", np.std(en))\n",
        "print(\"variance: \", np.var(en))"
      ],
      "metadata": {
        "colab": {
          "base_uri": "https://localhost:8080/"
        },
        "id": "5VV0L2bro0lI",
        "outputId": "764273c5-21bd-4bc3-b88d-0a774e4d71ee"
      },
      "execution_count": 28,
      "outputs": [
        {
          "output_type": "stream",
          "name": "stdout",
          "text": [
            "mean:  64.06\n",
            "median:  66.5\n",
            "mode:  79\n",
            "standar dev:  14.088875043806727\n",
            "variance:  198.49640000000002\n"
          ]
        }
      ]
    },
    {
      "cell_type": "code",
      "source": [
        "d1 = [21, 19, 24, 25, 29, 34, 26, 27, 37, 33, 18, 20, 19, 22, 19, 19, 25, 22, 25, 23, \n",
        "     25, 19, 31, 19, 23, 18, 23, 18, 23, 19, 22, 28, 21, 20, 22, 21, 20, 19, 21, 22]\n"
      ],
      "metadata": {
        "id": "dAXh_vcoo0pK"
      },
      "execution_count": 30,
      "outputs": []
    },
    {
      "cell_type": "code",
      "source": [
        "m1= np.mean(d1)\n",
        "m1"
      ],
      "metadata": {
        "colab": {
          "base_uri": "https://localhost:8080/"
        },
        "id": "WVregASto0sR",
        "outputId": "28290c2f-0cfd-4afe-85c7-0381443f9a86"
      },
      "execution_count": 31,
      "outputs": [
        {
          "output_type": "execute_result",
          "data": {
            "text/plain": [
              "23.025"
            ]
          },
          "metadata": {},
          "execution_count": 31
        }
      ]
    },
    {
      "cell_type": "code",
      "source": [
        "m2 = statistics.mean(d1)\n",
        "print(\"General Mean is % s \" % (m2))"
      ],
      "metadata": {
        "colab": {
          "base_uri": "https://localhost:8080/"
        },
        "id": "JnL0DyeFo0v7",
        "outputId": "de8dd9c2-35f8-4804-bbbf-49e51ec92f6a"
      },
      "execution_count": 35,
      "outputs": [
        {
          "output_type": "stream",
          "name": "stdout",
          "text": [
            "General Mean is 23.025 \n"
          ]
        }
      ]
    },
    {
      "cell_type": "code",
      "source": [
        "# harmoic mean\n",
        "m3 = statistics.harmonic_mean(d1)\n",
        "print(\"Harmonic Mean is %.2f\" % (m3))\n"
      ],
      "metadata": {
        "colab": {
          "base_uri": "https://localhost:8080/"
        },
        "id": "sumokFBa4eUP",
        "outputId": "62097cfa-c36c-4318-b316-d40387ad98fa"
      },
      "execution_count": 40,
      "outputs": [
        {
          "output_type": "stream",
          "name": "stdout",
          "text": [
            "Harmonic Mean is 22.27\n"
          ]
        }
      ]
    },
    {
      "cell_type": "code",
      "source": [
        "# geometric mean\n",
        "m4 = statistics.geometric_mean(d1)\n",
        "print(\"Geometric Mean is % s \" % (m4))"
      ],
      "metadata": {
        "colab": {
          "base_uri": "https://localhost:8080/"
        },
        "id": "v9-LhIJa4eYs",
        "outputId": "c309c8d6-a3dc-4d19-a940-7673fd879b24"
      },
      "execution_count": 41,
      "outputs": [
        {
          "output_type": "stream",
          "name": "stdout",
          "text": [
            "Geometric Mean is 22.625931774869056 \n"
          ]
        }
      ]
    },
    {
      "cell_type": "code",
      "source": [
        "# median\n",
        "m5 = np.median(d1)\n",
        "print(\"Median is % s \" % (m5))"
      ],
      "metadata": {
        "colab": {
          "base_uri": "https://localhost:8080/"
        },
        "id": "LcnV8jo_4edb",
        "outputId": "47082de7-2d1a-4f5d-cbc5-0f955067b11f"
      },
      "execution_count": 42,
      "outputs": [
        {
          "output_type": "stream",
          "name": "stdout",
          "text": [
            "Median is 22.0 \n"
          ]
        }
      ]
    },
    {
      "cell_type": "code",
      "source": [
        "m6 = statistics.median(d1)\n",
        "print(\"Median (2) is % s \" % (m6))"
      ],
      "metadata": {
        "colab": {
          "base_uri": "https://localhost:8080/"
        },
        "id": "1s9ZrhOe4eh2",
        "outputId": "d903ba68-7ee6-4ed8-c180-e09860a4c65b"
      },
      "execution_count": 43,
      "outputs": [
        {
          "output_type": "stream",
          "name": "stdout",
          "text": [
            "Median (2) is 22.0 \n"
          ]
        }
      ]
    },
    {
      "cell_type": "code",
      "source": [
        "m7 = statistics.mode(d1)\n",
        "m7\n"
      ],
      "metadata": {
        "colab": {
          "base_uri": "https://localhost:8080/"
        },
        "id": "m0WaoBNn4eq_",
        "outputId": "08cea17d-3472-4c85-9bbd-c01f158dc102"
      },
      "execution_count": 44,
      "outputs": [
        {
          "output_type": "execute_result",
          "data": {
            "text/plain": [
              "19"
            ]
          },
          "metadata": {},
          "execution_count": 44
        }
      ]
    },
    {
      "cell_type": "code",
      "source": [
        "m8 = stats.mode(d1)\n",
        "m8"
      ],
      "metadata": {
        "colab": {
          "base_uri": "https://localhost:8080/"
        },
        "id": "nMiuMowP4evh",
        "outputId": "cca6583d-6a2d-4c71-a0fb-04562f20faff"
      },
      "execution_count": 45,
      "outputs": [
        {
          "output_type": "execute_result",
          "data": {
            "text/plain": [
              "ModeResult(mode=array([19]), count=array([8]))"
            ]
          },
          "metadata": {},
          "execution_count": 45
        }
      ]
    },
    {
      "cell_type": "markdown",
      "source": [
        "# measures of dispersion\n",
        "# min, max, range"
      ],
      "metadata": {
        "id": "ZdsmnXEA6WQL"
      }
    },
    {
      "cell_type": "code",
      "source": [
        "min1 = np.min(d1)\n",
        "print(\"minimum value is % s \" % (min1))"
      ],
      "metadata": {
        "colab": {
          "base_uri": "https://localhost:8080/"
        },
        "id": "RHKrcQUM4e0y",
        "outputId": "9a78d50f-11cc-449e-fc47-fc0af9c54808"
      },
      "execution_count": 46,
      "outputs": [
        {
          "output_type": "stream",
          "name": "stdout",
          "text": [
            "minimum value is 18 \n"
          ]
        }
      ]
    },
    {
      "cell_type": "code",
      "source": [
        "max1 = np.max(d1)\n",
        "print(\"Maximum value is % s \" % (max1))"
      ],
      "metadata": {
        "colab": {
          "base_uri": "https://localhost:8080/"
        },
        "id": "P579ya4r4e5P",
        "outputId": "772db61c-01b1-4546-ddfc-70239e46767e"
      },
      "execution_count": 47,
      "outputs": [
        {
          "output_type": "stream",
          "name": "stdout",
          "text": [
            "Maximum value is 37 \n"
          ]
        }
      ]
    },
    {
      "cell_type": "code",
      "source": [
        "r1 = max1 - min1\n",
        "print(\"Range is %s \" % (r1))"
      ],
      "metadata": {
        "colab": {
          "base_uri": "https://localhost:8080/"
        },
        "id": "1ctKvSQD4e9y",
        "outputId": "188b27ed-ff13-444b-99cb-19d9998a0eb9"
      },
      "execution_count": 52,
      "outputs": [
        {
          "output_type": "stream",
          "name": "stdout",
          "text": [
            "Range is 19 \n"
          ]
        }
      ]
    },
    {
      "cell_type": "code",
      "source": [
        "# variance\n",
        "v1 = np.var(d1)\n",
        "print(\"variance is % s \" % (v1))"
      ],
      "metadata": {
        "colab": {
          "base_uri": "https://localhost:8080/"
        },
        "id": "Fxib-j904fEl",
        "outputId": "54b81d1b-bedf-4f67-ccea-96afd64e09b3"
      },
      "execution_count": 53,
      "outputs": [
        {
          "output_type": "stream",
          "name": "stdout",
          "text": [
            "variance is 20.874375000000004 \n"
          ]
        }
      ]
    },
    {
      "cell_type": "code",
      "source": [
        "v2 = statistics.variance(d1)\n",
        "print(\"Standard deviation is % s \" % (v2))"
      ],
      "metadata": {
        "colab": {
          "base_uri": "https://localhost:8080/"
        },
        "id": "E1GoK8Kn4fI-",
        "outputId": "f09d2d92-b8dd-46ad-81fc-a9535a8e638b"
      },
      "execution_count": 54,
      "outputs": [
        {
          "output_type": "stream",
          "name": "stdout",
          "text": [
            "Standard deviation is 21.409615384615385 \n"
          ]
        }
      ]
    },
    {
      "cell_type": "code",
      "source": [
        "# standard deviation\n",
        "s1 = np.std(d1)\n",
        "print(\"Standard deviation is % s \" % (s1))"
      ],
      "metadata": {
        "colab": {
          "base_uri": "https://localhost:8080/"
        },
        "id": "EWBLIV_84fOd",
        "outputId": "b878010b-a84f-4a56-e17a-44e775d00cca"
      },
      "execution_count": 56,
      "outputs": [
        {
          "output_type": "stream",
          "name": "stdout",
          "text": [
            "Standard deviation is 4.56884832315541 \n"
          ]
        }
      ]
    },
    {
      "cell_type": "code",
      "source": [
        "s2 = statistics.stdev(d1)\n",
        "print(\"Standard deviation is % s \" % (s2))"
      ],
      "metadata": {
        "colab": {
          "base_uri": "https://localhost:8080/"
        },
        "id": "AmgXYjCS4fSl",
        "outputId": "0e50172a-1b2b-4b8e-b193-1cef71b1b2a0"
      },
      "execution_count": 57,
      "outputs": [
        {
          "output_type": "stream",
          "name": "stdout",
          "text": [
            "Standard deviation is 4.6270525590936815 \n"
          ]
        }
      ]
    },
    {
      "cell_type": "code",
      "source": [
        "# Percentile\n",
        "p1 = np.percentile(d1, 10)\n",
        "print(\"Percentile is % s \" % (p1))"
      ],
      "metadata": {
        "colab": {
          "base_uri": "https://localhost:8080/"
        },
        "id": "zpnn8iQC4fW4",
        "outputId": "9e2dac75-480c-4c2d-e353-612b9fe3f58d"
      },
      "execution_count": 58,
      "outputs": [
        {
          "output_type": "stream",
          "name": "stdout",
          "text": [
            "Percentile is 19.0 \n"
          ]
        }
      ]
    },
    {
      "cell_type": "code",
      "source": [
        "# Coefficient of variation\n",
        "co1 = lambda x: np.std(x, ddof=1) / np.mean(x) * 100\n",
        "co1(d1) "
      ],
      "metadata": {
        "colab": {
          "base_uri": "https://localhost:8080/"
        },
        "id": "n_on_1ZR4fbA",
        "outputId": "f28faf9b-475b-455b-c6e9-c7ae154f3539"
      },
      "execution_count": 59,
      "outputs": [
        {
          "output_type": "execute_result",
          "data": {
            "text/plain": [
              "20.09577658672609"
            ]
          },
          "metadata": {},
          "execution_count": 59
        }
      ]
    },
    {
      "cell_type": "code",
      "source": [
        "d2 = pd.DataFrame(d1)\n",
        "d2"
      ],
      "metadata": {
        "colab": {
          "base_uri": "https://localhost:8080/",
          "height": 1000
        },
        "id": "fS2BtN014ffh",
        "outputId": "7b90de35-50e3-4b6b-e637-e36efc9f1599"
      },
      "execution_count": 60,
      "outputs": [
        {
          "output_type": "execute_result",
          "data": {
            "text/plain": [
              "     0\n",
              "0   21\n",
              "1   19\n",
              "2   24\n",
              "3   25\n",
              "4   29\n",
              "5   34\n",
              "6   26\n",
              "7   27\n",
              "8   37\n",
              "9   33\n",
              "10  18\n",
              "11  20\n",
              "12  19\n",
              "13  22\n",
              "14  19\n",
              "15  19\n",
              "16  25\n",
              "17  22\n",
              "18  25\n",
              "19  23\n",
              "20  25\n",
              "21  19\n",
              "22  31\n",
              "23  19\n",
              "24  23\n",
              "25  18\n",
              "26  23\n",
              "27  18\n",
              "28  23\n",
              "29  19\n",
              "30  22\n",
              "31  28\n",
              "32  21\n",
              "33  20\n",
              "34  22\n",
              "35  21\n",
              "36  20\n",
              "37  19\n",
              "38  21\n",
              "39  22"
            ],
            "text/html": [
              "\n",
              "  <div id=\"df-34b192af-61cc-42c5-85dc-aff2074cff06\">\n",
              "    <div class=\"colab-df-container\">\n",
              "      <div>\n",
              "<style scoped>\n",
              "    .dataframe tbody tr th:only-of-type {\n",
              "        vertical-align: middle;\n",
              "    }\n",
              "\n",
              "    .dataframe tbody tr th {\n",
              "        vertical-align: top;\n",
              "    }\n",
              "\n",
              "    .dataframe thead th {\n",
              "        text-align: right;\n",
              "    }\n",
              "</style>\n",
              "<table border=\"1\" class=\"dataframe\">\n",
              "  <thead>\n",
              "    <tr style=\"text-align: right;\">\n",
              "      <th></th>\n",
              "      <th>0</th>\n",
              "    </tr>\n",
              "  </thead>\n",
              "  <tbody>\n",
              "    <tr>\n",
              "      <th>0</th>\n",
              "      <td>21</td>\n",
              "    </tr>\n",
              "    <tr>\n",
              "      <th>1</th>\n",
              "      <td>19</td>\n",
              "    </tr>\n",
              "    <tr>\n",
              "      <th>2</th>\n",
              "      <td>24</td>\n",
              "    </tr>\n",
              "    <tr>\n",
              "      <th>3</th>\n",
              "      <td>25</td>\n",
              "    </tr>\n",
              "    <tr>\n",
              "      <th>4</th>\n",
              "      <td>29</td>\n",
              "    </tr>\n",
              "    <tr>\n",
              "      <th>5</th>\n",
              "      <td>34</td>\n",
              "    </tr>\n",
              "    <tr>\n",
              "      <th>6</th>\n",
              "      <td>26</td>\n",
              "    </tr>\n",
              "    <tr>\n",
              "      <th>7</th>\n",
              "      <td>27</td>\n",
              "    </tr>\n",
              "    <tr>\n",
              "      <th>8</th>\n",
              "      <td>37</td>\n",
              "    </tr>\n",
              "    <tr>\n",
              "      <th>9</th>\n",
              "      <td>33</td>\n",
              "    </tr>\n",
              "    <tr>\n",
              "      <th>10</th>\n",
              "      <td>18</td>\n",
              "    </tr>\n",
              "    <tr>\n",
              "      <th>11</th>\n",
              "      <td>20</td>\n",
              "    </tr>\n",
              "    <tr>\n",
              "      <th>12</th>\n",
              "      <td>19</td>\n",
              "    </tr>\n",
              "    <tr>\n",
              "      <th>13</th>\n",
              "      <td>22</td>\n",
              "    </tr>\n",
              "    <tr>\n",
              "      <th>14</th>\n",
              "      <td>19</td>\n",
              "    </tr>\n",
              "    <tr>\n",
              "      <th>15</th>\n",
              "      <td>19</td>\n",
              "    </tr>\n",
              "    <tr>\n",
              "      <th>16</th>\n",
              "      <td>25</td>\n",
              "    </tr>\n",
              "    <tr>\n",
              "      <th>17</th>\n",
              "      <td>22</td>\n",
              "    </tr>\n",
              "    <tr>\n",
              "      <th>18</th>\n",
              "      <td>25</td>\n",
              "    </tr>\n",
              "    <tr>\n",
              "      <th>19</th>\n",
              "      <td>23</td>\n",
              "    </tr>\n",
              "    <tr>\n",
              "      <th>20</th>\n",
              "      <td>25</td>\n",
              "    </tr>\n",
              "    <tr>\n",
              "      <th>21</th>\n",
              "      <td>19</td>\n",
              "    </tr>\n",
              "    <tr>\n",
              "      <th>22</th>\n",
              "      <td>31</td>\n",
              "    </tr>\n",
              "    <tr>\n",
              "      <th>23</th>\n",
              "      <td>19</td>\n",
              "    </tr>\n",
              "    <tr>\n",
              "      <th>24</th>\n",
              "      <td>23</td>\n",
              "    </tr>\n",
              "    <tr>\n",
              "      <th>25</th>\n",
              "      <td>18</td>\n",
              "    </tr>\n",
              "    <tr>\n",
              "      <th>26</th>\n",
              "      <td>23</td>\n",
              "    </tr>\n",
              "    <tr>\n",
              "      <th>27</th>\n",
              "      <td>18</td>\n",
              "    </tr>\n",
              "    <tr>\n",
              "      <th>28</th>\n",
              "      <td>23</td>\n",
              "    </tr>\n",
              "    <tr>\n",
              "      <th>29</th>\n",
              "      <td>19</td>\n",
              "    </tr>\n",
              "    <tr>\n",
              "      <th>30</th>\n",
              "      <td>22</td>\n",
              "    </tr>\n",
              "    <tr>\n",
              "      <th>31</th>\n",
              "      <td>28</td>\n",
              "    </tr>\n",
              "    <tr>\n",
              "      <th>32</th>\n",
              "      <td>21</td>\n",
              "    </tr>\n",
              "    <tr>\n",
              "      <th>33</th>\n",
              "      <td>20</td>\n",
              "    </tr>\n",
              "    <tr>\n",
              "      <th>34</th>\n",
              "      <td>22</td>\n",
              "    </tr>\n",
              "    <tr>\n",
              "      <th>35</th>\n",
              "      <td>21</td>\n",
              "    </tr>\n",
              "    <tr>\n",
              "      <th>36</th>\n",
              "      <td>20</td>\n",
              "    </tr>\n",
              "    <tr>\n",
              "      <th>37</th>\n",
              "      <td>19</td>\n",
              "    </tr>\n",
              "    <tr>\n",
              "      <th>38</th>\n",
              "      <td>21</td>\n",
              "    </tr>\n",
              "    <tr>\n",
              "      <th>39</th>\n",
              "      <td>22</td>\n",
              "    </tr>\n",
              "  </tbody>\n",
              "</table>\n",
              "</div>\n",
              "      <button class=\"colab-df-convert\" onclick=\"convertToInteractive('df-34b192af-61cc-42c5-85dc-aff2074cff06')\"\n",
              "              title=\"Convert this dataframe to an interactive table.\"\n",
              "              style=\"display:none;\">\n",
              "        \n",
              "  <svg xmlns=\"http://www.w3.org/2000/svg\" height=\"24px\"viewBox=\"0 0 24 24\"\n",
              "       width=\"24px\">\n",
              "    <path d=\"M0 0h24v24H0V0z\" fill=\"none\"/>\n",
              "    <path d=\"M18.56 5.44l.94 2.06.94-2.06 2.06-.94-2.06-.94-.94-2.06-.94 2.06-2.06.94zm-11 1L8.5 8.5l.94-2.06 2.06-.94-2.06-.94L8.5 2.5l-.94 2.06-2.06.94zm10 10l.94 2.06.94-2.06 2.06-.94-2.06-.94-.94-2.06-.94 2.06-2.06.94z\"/><path d=\"M17.41 7.96l-1.37-1.37c-.4-.4-.92-.59-1.43-.59-.52 0-1.04.2-1.43.59L10.3 9.45l-7.72 7.72c-.78.78-.78 2.05 0 2.83L4 21.41c.39.39.9.59 1.41.59.51 0 1.02-.2 1.41-.59l7.78-7.78 2.81-2.81c.8-.78.8-2.07 0-2.86zM5.41 20L4 18.59l7.72-7.72 1.47 1.35L5.41 20z\"/>\n",
              "  </svg>\n",
              "      </button>\n",
              "      \n",
              "  <style>\n",
              "    .colab-df-container {\n",
              "      display:flex;\n",
              "      flex-wrap:wrap;\n",
              "      gap: 12px;\n",
              "    }\n",
              "\n",
              "    .colab-df-convert {\n",
              "      background-color: #E8F0FE;\n",
              "      border: none;\n",
              "      border-radius: 50%;\n",
              "      cursor: pointer;\n",
              "      display: none;\n",
              "      fill: #1967D2;\n",
              "      height: 32px;\n",
              "      padding: 0 0 0 0;\n",
              "      width: 32px;\n",
              "    }\n",
              "\n",
              "    .colab-df-convert:hover {\n",
              "      background-color: #E2EBFA;\n",
              "      box-shadow: 0px 1px 2px rgba(60, 64, 67, 0.3), 0px 1px 3px 1px rgba(60, 64, 67, 0.15);\n",
              "      fill: #174EA6;\n",
              "    }\n",
              "\n",
              "    [theme=dark] .colab-df-convert {\n",
              "      background-color: #3B4455;\n",
              "      fill: #D2E3FC;\n",
              "    }\n",
              "\n",
              "    [theme=dark] .colab-df-convert:hover {\n",
              "      background-color: #434B5C;\n",
              "      box-shadow: 0px 1px 3px 1px rgba(0, 0, 0, 0.15);\n",
              "      filter: drop-shadow(0px 1px 2px rgba(0, 0, 0, 0.3));\n",
              "      fill: #FFFFFF;\n",
              "    }\n",
              "  </style>\n",
              "\n",
              "      <script>\n",
              "        const buttonEl =\n",
              "          document.querySelector('#df-34b192af-61cc-42c5-85dc-aff2074cff06 button.colab-df-convert');\n",
              "        buttonEl.style.display =\n",
              "          google.colab.kernel.accessAllowed ? 'block' : 'none';\n",
              "\n",
              "        async function convertToInteractive(key) {\n",
              "          const element = document.querySelector('#df-34b192af-61cc-42c5-85dc-aff2074cff06');\n",
              "          const dataTable =\n",
              "            await google.colab.kernel.invokeFunction('convertToInteractive',\n",
              "                                                     [key], {});\n",
              "          if (!dataTable) return;\n",
              "\n",
              "          const docLinkHtml = 'Like what you see? Visit the ' +\n",
              "            '<a target=\"_blank\" href=https://colab.research.google.com/notebooks/data_table.ipynb>data table notebook</a>'\n",
              "            + ' to learn more about interactive tables.';\n",
              "          element.innerHTML = '';\n",
              "          dataTable['output_type'] = 'display_data';\n",
              "          await google.colab.output.renderOutput(dataTable, element);\n",
              "          const docLink = document.createElement('div');\n",
              "          docLink.innerHTML = docLinkHtml;\n",
              "          element.appendChild(docLink);\n",
              "        }\n",
              "      </script>\n",
              "    </div>\n",
              "  </div>\n",
              "  "
            ]
          },
          "metadata": {},
          "execution_count": 60
        }
      ]
    },
    {
      "cell_type": "code",
      "source": [
        "co2 = d2.apply(co1)\n",
        "co2"
      ],
      "metadata": {
        "colab": {
          "base_uri": "https://localhost:8080/"
        },
        "id": "8zJ3yExI4fmb",
        "outputId": "9e418326-ef8b-4b06-b923-80ab0e4af63b"
      },
      "execution_count": 61,
      "outputs": [
        {
          "output_type": "execute_result",
          "data": {
            "text/plain": [
              "0    20.095777\n",
              "dtype: float64"
            ]
          },
          "metadata": {},
          "execution_count": 61
        }
      ]
    },
    {
      "cell_type": "code",
      "source": [
        "x = lambda a : a + 10\n",
        "print(x(10))"
      ],
      "metadata": {
        "colab": {
          "base_uri": "https://localhost:8080/"
        },
        "id": "ZGLiVbr99EzN",
        "outputId": "fae38241-1629-46bd-91a5-853ff2832c3e"
      },
      "execution_count": 64,
      "outputs": [
        {
          "output_type": "stream",
          "name": "stdout",
          "text": [
            "20\n"
          ]
        }
      ]
    },
    {
      "cell_type": "code",
      "source": [
        "x = lambda a, b : a * b\n",
        "print(x(5, 6))"
      ],
      "metadata": {
        "colab": {
          "base_uri": "https://localhost:8080/"
        },
        "id": "ve_Ub4n99E32",
        "outputId": "a30d7586-8b89-4fa3-c1aa-8ee69ece5b0f"
      },
      "execution_count": 65,
      "outputs": [
        {
          "output_type": "stream",
          "name": "stdout",
          "text": [
            "30\n"
          ]
        }
      ]
    },
    {
      "cell_type": "code",
      "source": [
        "def myfunc(n):\n",
        "  return lambda a : a * n\n",
        "\n",
        "mydoubler = myfunc(2)\n",
        "mytripler = myfunc(3)\n",
        "\n",
        "print(mydoubler(11))\n",
        "print(mytripler(11))"
      ],
      "metadata": {
        "colab": {
          "base_uri": "https://localhost:8080/"
        },
        "id": "ripqIuM39E9d",
        "outputId": "d09393fc-e85f-4a4e-b0f8-58ba15db39d4"
      },
      "execution_count": 66,
      "outputs": [
        {
          "output_type": "stream",
          "name": "stdout",
          "text": [
            "22\n",
            "33\n"
          ]
        }
      ]
    },
    {
      "cell_type": "markdown",
      "source": [
        "#  Shape distribution"
      ],
      "metadata": {
        "id": "iAw9fAj--SUT"
      }
    },
    {
      "cell_type": "code",
      "source": [
        "d2"
      ],
      "metadata": {
        "colab": {
          "base_uri": "https://localhost:8080/",
          "height": 1000
        },
        "id": "IlJGATNP-apN",
        "outputId": "5f6b0edb-4512-473b-ed23-1ad2dc6a4651"
      },
      "execution_count": 68,
      "outputs": [
        {
          "output_type": "execute_result",
          "data": {
            "text/plain": [
              "     0\n",
              "0   21\n",
              "1   19\n",
              "2   24\n",
              "3   25\n",
              "4   29\n",
              "5   34\n",
              "6   26\n",
              "7   27\n",
              "8   37\n",
              "9   33\n",
              "10  18\n",
              "11  20\n",
              "12  19\n",
              "13  22\n",
              "14  19\n",
              "15  19\n",
              "16  25\n",
              "17  22\n",
              "18  25\n",
              "19  23\n",
              "20  25\n",
              "21  19\n",
              "22  31\n",
              "23  19\n",
              "24  23\n",
              "25  18\n",
              "26  23\n",
              "27  18\n",
              "28  23\n",
              "29  19\n",
              "30  22\n",
              "31  28\n",
              "32  21\n",
              "33  20\n",
              "34  22\n",
              "35  21\n",
              "36  20\n",
              "37  19\n",
              "38  21\n",
              "39  22"
            ],
            "text/html": [
              "\n",
              "  <div id=\"df-ec51d107-d6fa-4692-9edf-517138f341b5\">\n",
              "    <div class=\"colab-df-container\">\n",
              "      <div>\n",
              "<style scoped>\n",
              "    .dataframe tbody tr th:only-of-type {\n",
              "        vertical-align: middle;\n",
              "    }\n",
              "\n",
              "    .dataframe tbody tr th {\n",
              "        vertical-align: top;\n",
              "    }\n",
              "\n",
              "    .dataframe thead th {\n",
              "        text-align: right;\n",
              "    }\n",
              "</style>\n",
              "<table border=\"1\" class=\"dataframe\">\n",
              "  <thead>\n",
              "    <tr style=\"text-align: right;\">\n",
              "      <th></th>\n",
              "      <th>0</th>\n",
              "    </tr>\n",
              "  </thead>\n",
              "  <tbody>\n",
              "    <tr>\n",
              "      <th>0</th>\n",
              "      <td>21</td>\n",
              "    </tr>\n",
              "    <tr>\n",
              "      <th>1</th>\n",
              "      <td>19</td>\n",
              "    </tr>\n",
              "    <tr>\n",
              "      <th>2</th>\n",
              "      <td>24</td>\n",
              "    </tr>\n",
              "    <tr>\n",
              "      <th>3</th>\n",
              "      <td>25</td>\n",
              "    </tr>\n",
              "    <tr>\n",
              "      <th>4</th>\n",
              "      <td>29</td>\n",
              "    </tr>\n",
              "    <tr>\n",
              "      <th>5</th>\n",
              "      <td>34</td>\n",
              "    </tr>\n",
              "    <tr>\n",
              "      <th>6</th>\n",
              "      <td>26</td>\n",
              "    </tr>\n",
              "    <tr>\n",
              "      <th>7</th>\n",
              "      <td>27</td>\n",
              "    </tr>\n",
              "    <tr>\n",
              "      <th>8</th>\n",
              "      <td>37</td>\n",
              "    </tr>\n",
              "    <tr>\n",
              "      <th>9</th>\n",
              "      <td>33</td>\n",
              "    </tr>\n",
              "    <tr>\n",
              "      <th>10</th>\n",
              "      <td>18</td>\n",
              "    </tr>\n",
              "    <tr>\n",
              "      <th>11</th>\n",
              "      <td>20</td>\n",
              "    </tr>\n",
              "    <tr>\n",
              "      <th>12</th>\n",
              "      <td>19</td>\n",
              "    </tr>\n",
              "    <tr>\n",
              "      <th>13</th>\n",
              "      <td>22</td>\n",
              "    </tr>\n",
              "    <tr>\n",
              "      <th>14</th>\n",
              "      <td>19</td>\n",
              "    </tr>\n",
              "    <tr>\n",
              "      <th>15</th>\n",
              "      <td>19</td>\n",
              "    </tr>\n",
              "    <tr>\n",
              "      <th>16</th>\n",
              "      <td>25</td>\n",
              "    </tr>\n",
              "    <tr>\n",
              "      <th>17</th>\n",
              "      <td>22</td>\n",
              "    </tr>\n",
              "    <tr>\n",
              "      <th>18</th>\n",
              "      <td>25</td>\n",
              "    </tr>\n",
              "    <tr>\n",
              "      <th>19</th>\n",
              "      <td>23</td>\n",
              "    </tr>\n",
              "    <tr>\n",
              "      <th>20</th>\n",
              "      <td>25</td>\n",
              "    </tr>\n",
              "    <tr>\n",
              "      <th>21</th>\n",
              "      <td>19</td>\n",
              "    </tr>\n",
              "    <tr>\n",
              "      <th>22</th>\n",
              "      <td>31</td>\n",
              "    </tr>\n",
              "    <tr>\n",
              "      <th>23</th>\n",
              "      <td>19</td>\n",
              "    </tr>\n",
              "    <tr>\n",
              "      <th>24</th>\n",
              "      <td>23</td>\n",
              "    </tr>\n",
              "    <tr>\n",
              "      <th>25</th>\n",
              "      <td>18</td>\n",
              "    </tr>\n",
              "    <tr>\n",
              "      <th>26</th>\n",
              "      <td>23</td>\n",
              "    </tr>\n",
              "    <tr>\n",
              "      <th>27</th>\n",
              "      <td>18</td>\n",
              "    </tr>\n",
              "    <tr>\n",
              "      <th>28</th>\n",
              "      <td>23</td>\n",
              "    </tr>\n",
              "    <tr>\n",
              "      <th>29</th>\n",
              "      <td>19</td>\n",
              "    </tr>\n",
              "    <tr>\n",
              "      <th>30</th>\n",
              "      <td>22</td>\n",
              "    </tr>\n",
              "    <tr>\n",
              "      <th>31</th>\n",
              "      <td>28</td>\n",
              "    </tr>\n",
              "    <tr>\n",
              "      <th>32</th>\n",
              "      <td>21</td>\n",
              "    </tr>\n",
              "    <tr>\n",
              "      <th>33</th>\n",
              "      <td>20</td>\n",
              "    </tr>\n",
              "    <tr>\n",
              "      <th>34</th>\n",
              "      <td>22</td>\n",
              "    </tr>\n",
              "    <tr>\n",
              "      <th>35</th>\n",
              "      <td>21</td>\n",
              "    </tr>\n",
              "    <tr>\n",
              "      <th>36</th>\n",
              "      <td>20</td>\n",
              "    </tr>\n",
              "    <tr>\n",
              "      <th>37</th>\n",
              "      <td>19</td>\n",
              "    </tr>\n",
              "    <tr>\n",
              "      <th>38</th>\n",
              "      <td>21</td>\n",
              "    </tr>\n",
              "    <tr>\n",
              "      <th>39</th>\n",
              "      <td>22</td>\n",
              "    </tr>\n",
              "  </tbody>\n",
              "</table>\n",
              "</div>\n",
              "      <button class=\"colab-df-convert\" onclick=\"convertToInteractive('df-ec51d107-d6fa-4692-9edf-517138f341b5')\"\n",
              "              title=\"Convert this dataframe to an interactive table.\"\n",
              "              style=\"display:none;\">\n",
              "        \n",
              "  <svg xmlns=\"http://www.w3.org/2000/svg\" height=\"24px\"viewBox=\"0 0 24 24\"\n",
              "       width=\"24px\">\n",
              "    <path d=\"M0 0h24v24H0V0z\" fill=\"none\"/>\n",
              "    <path d=\"M18.56 5.44l.94 2.06.94-2.06 2.06-.94-2.06-.94-.94-2.06-.94 2.06-2.06.94zm-11 1L8.5 8.5l.94-2.06 2.06-.94-2.06-.94L8.5 2.5l-.94 2.06-2.06.94zm10 10l.94 2.06.94-2.06 2.06-.94-2.06-.94-.94-2.06-.94 2.06-2.06.94z\"/><path d=\"M17.41 7.96l-1.37-1.37c-.4-.4-.92-.59-1.43-.59-.52 0-1.04.2-1.43.59L10.3 9.45l-7.72 7.72c-.78.78-.78 2.05 0 2.83L4 21.41c.39.39.9.59 1.41.59.51 0 1.02-.2 1.41-.59l7.78-7.78 2.81-2.81c.8-.78.8-2.07 0-2.86zM5.41 20L4 18.59l7.72-7.72 1.47 1.35L5.41 20z\"/>\n",
              "  </svg>\n",
              "      </button>\n",
              "      \n",
              "  <style>\n",
              "    .colab-df-container {\n",
              "      display:flex;\n",
              "      flex-wrap:wrap;\n",
              "      gap: 12px;\n",
              "    }\n",
              "\n",
              "    .colab-df-convert {\n",
              "      background-color: #E8F0FE;\n",
              "      border: none;\n",
              "      border-radius: 50%;\n",
              "      cursor: pointer;\n",
              "      display: none;\n",
              "      fill: #1967D2;\n",
              "      height: 32px;\n",
              "      padding: 0 0 0 0;\n",
              "      width: 32px;\n",
              "    }\n",
              "\n",
              "    .colab-df-convert:hover {\n",
              "      background-color: #E2EBFA;\n",
              "      box-shadow: 0px 1px 2px rgba(60, 64, 67, 0.3), 0px 1px 3px 1px rgba(60, 64, 67, 0.15);\n",
              "      fill: #174EA6;\n",
              "    }\n",
              "\n",
              "    [theme=dark] .colab-df-convert {\n",
              "      background-color: #3B4455;\n",
              "      fill: #D2E3FC;\n",
              "    }\n",
              "\n",
              "    [theme=dark] .colab-df-convert:hover {\n",
              "      background-color: #434B5C;\n",
              "      box-shadow: 0px 1px 3px 1px rgba(0, 0, 0, 0.15);\n",
              "      filter: drop-shadow(0px 1px 2px rgba(0, 0, 0, 0.3));\n",
              "      fill: #FFFFFF;\n",
              "    }\n",
              "  </style>\n",
              "\n",
              "      <script>\n",
              "        const buttonEl =\n",
              "          document.querySelector('#df-ec51d107-d6fa-4692-9edf-517138f341b5 button.colab-df-convert');\n",
              "        buttonEl.style.display =\n",
              "          google.colab.kernel.accessAllowed ? 'block' : 'none';\n",
              "\n",
              "        async function convertToInteractive(key) {\n",
              "          const element = document.querySelector('#df-ec51d107-d6fa-4692-9edf-517138f341b5');\n",
              "          const dataTable =\n",
              "            await google.colab.kernel.invokeFunction('convertToInteractive',\n",
              "                                                     [key], {});\n",
              "          if (!dataTable) return;\n",
              "\n",
              "          const docLinkHtml = 'Like what you see? Visit the ' +\n",
              "            '<a target=\"_blank\" href=https://colab.research.google.com/notebooks/data_table.ipynb>data table notebook</a>'\n",
              "            + ' to learn more about interactive tables.';\n",
              "          element.innerHTML = '';\n",
              "          dataTable['output_type'] = 'display_data';\n",
              "          await google.colab.output.renderOutput(dataTable, element);\n",
              "          const docLink = document.createElement('div');\n",
              "          docLink.innerHTML = docLinkHtml;\n",
              "          element.appendChild(docLink);\n",
              "        }\n",
              "      </script>\n",
              "    </div>\n",
              "  </div>\n",
              "  "
            ]
          },
          "metadata": {},
          "execution_count": 68
        }
      ]
    },
    {
      "cell_type": "markdown",
      "source": [
        "![pearson-mode-skewness.webp](data:image/webp;base64,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)"
      ],
      "metadata": {
        "id": "uwpaoJYfAHXK"
      }
    },
    {
      "cell_type": "code",
      "source": [
        "# Skewness\n",
        "sk1 = d2.skew()\n",
        "sk1 "
      ],
      "metadata": {
        "colab": {
          "base_uri": "https://localhost:8080/"
        },
        "id": "4wXoyVey9FCl",
        "outputId": "f8a8ce60-6c97-4264-b6d2-404e539fedae"
      },
      "execution_count": 67,
      "outputs": [
        {
          "output_type": "execute_result",
          "data": {
            "text/plain": [
              "0    1.35803\n",
              "dtype: float64"
            ]
          },
          "metadata": {},
          "execution_count": 67
        }
      ]
    },
    {
      "cell_type": "code",
      "source": [
        "# Kurtosis\n",
        "k1 = d2.kurtosis()\n",
        "k1"
      ],
      "metadata": {
        "colab": {
          "base_uri": "https://localhost:8080/"
        },
        "id": "wZUkuBkp9FSH",
        "outputId": "5647e337-5eb6-4e9e-833c-cdf121da34cd"
      },
      "execution_count": 69,
      "outputs": [
        {
          "output_type": "execute_result",
          "data": {
            "text/plain": [
              "0    1.531491\n",
              "dtype: float64"
            ]
          },
          "metadata": {},
          "execution_count": 69
        }
      ]
    },
    {
      "cell_type": "markdown",
      "source": [
        "![Negative_and_positive_skew_diagrams_(English).svg](data:image/svg+xml;base64,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)"
      ],
      "metadata": {
        "id": "p3GeIbuI_ww8"
      }
    },
    {
      "cell_type": "code",
      "source": [
        "df=pd.read_csv(\"/content/heart.csv\")"
      ],
      "metadata": {
        "id": "fU2JHwve9FXE"
      },
      "execution_count": 70,
      "outputs": []
    },
    {
      "cell_type": "code",
      "source": [
        "df.head()"
      ],
      "metadata": {
        "colab": {
          "base_uri": "https://localhost:8080/",
          "height": 200
        },
        "id": "WwmSn10D9Fdu",
        "outputId": "96ca8068-86e6-49ff-a58a-bb3529e23494"
      },
      "execution_count": 71,
      "outputs": [
        {
          "output_type": "execute_result",
          "data": {
            "text/plain": [
              "   age  sex  cp  trestbps  chol  fbs  restecg  thalach  exang  oldpeak  slope  \\\n",
              "0   52    1   0       125   212    0        1      168      0      1.0      2   \n",
              "1   53    1   0       140   203    1        0      155      1      3.1      0   \n",
              "2   70    1   0       145   174    0        1      125      1      2.6      0   \n",
              "3   61    1   0       148   203    0        1      161      0      0.0      2   \n",
              "4   62    0   0       138   294    1        1      106      0      1.9      1   \n",
              "\n",
              "   ca  thal  target  \n",
              "0   2     3       0  \n",
              "1   0     3       0  \n",
              "2   0     3       0  \n",
              "3   1     3       0  \n",
              "4   3     2       0  "
            ],
            "text/html": [
              "\n",
              "  <div id=\"df-daf77382-8720-434c-ad12-520e24000013\">\n",
              "    <div class=\"colab-df-container\">\n",
              "      <div>\n",
              "<style scoped>\n",
              "    .dataframe tbody tr th:only-of-type {\n",
              "        vertical-align: middle;\n",
              "    }\n",
              "\n",
              "    .dataframe tbody tr th {\n",
              "        vertical-align: top;\n",
              "    }\n",
              "\n",
              "    .dataframe thead th {\n",
              "        text-align: right;\n",
              "    }\n",
              "</style>\n",
              "<table border=\"1\" class=\"dataframe\">\n",
              "  <thead>\n",
              "    <tr style=\"text-align: right;\">\n",
              "      <th></th>\n",
              "      <th>age</th>\n",
              "      <th>sex</th>\n",
              "      <th>cp</th>\n",
              "      <th>trestbps</th>\n",
              "      <th>chol</th>\n",
              "      <th>fbs</th>\n",
              "      <th>restecg</th>\n",
              "      <th>thalach</th>\n",
              "      <th>exang</th>\n",
              "      <th>oldpeak</th>\n",
              "      <th>slope</th>\n",
              "      <th>ca</th>\n",
              "      <th>thal</th>\n",
              "      <th>target</th>\n",
              "    </tr>\n",
              "  </thead>\n",
              "  <tbody>\n",
              "    <tr>\n",
              "      <th>0</th>\n",
              "      <td>52</td>\n",
              "      <td>1</td>\n",
              "      <td>0</td>\n",
              "      <td>125</td>\n",
              "      <td>212</td>\n",
              "      <td>0</td>\n",
              "      <td>1</td>\n",
              "      <td>168</td>\n",
              "      <td>0</td>\n",
              "      <td>1.0</td>\n",
              "      <td>2</td>\n",
              "      <td>2</td>\n",
              "      <td>3</td>\n",
              "      <td>0</td>\n",
              "    </tr>\n",
              "    <tr>\n",
              "      <th>1</th>\n",
              "      <td>53</td>\n",
              "      <td>1</td>\n",
              "      <td>0</td>\n",
              "      <td>140</td>\n",
              "      <td>203</td>\n",
              "      <td>1</td>\n",
              "      <td>0</td>\n",
              "      <td>155</td>\n",
              "      <td>1</td>\n",
              "      <td>3.1</td>\n",
              "      <td>0</td>\n",
              "      <td>0</td>\n",
              "      <td>3</td>\n",
              "      <td>0</td>\n",
              "    </tr>\n",
              "    <tr>\n",
              "      <th>2</th>\n",
              "      <td>70</td>\n",
              "      <td>1</td>\n",
              "      <td>0</td>\n",
              "      <td>145</td>\n",
              "      <td>174</td>\n",
              "      <td>0</td>\n",
              "      <td>1</td>\n",
              "      <td>125</td>\n",
              "      <td>1</td>\n",
              "      <td>2.6</td>\n",
              "      <td>0</td>\n",
              "      <td>0</td>\n",
              "      <td>3</td>\n",
              "      <td>0</td>\n",
              "    </tr>\n",
              "    <tr>\n",
              "      <th>3</th>\n",
              "      <td>61</td>\n",
              "      <td>1</td>\n",
              "      <td>0</td>\n",
              "      <td>148</td>\n",
              "      <td>203</td>\n",
              "      <td>0</td>\n",
              "      <td>1</td>\n",
              "      <td>161</td>\n",
              "      <td>0</td>\n",
              "      <td>0.0</td>\n",
              "      <td>2</td>\n",
              "      <td>1</td>\n",
              "      <td>3</td>\n",
              "      <td>0</td>\n",
              "    </tr>\n",
              "    <tr>\n",
              "      <th>4</th>\n",
              "      <td>62</td>\n",
              "      <td>0</td>\n",
              "      <td>0</td>\n",
              "      <td>138</td>\n",
              "      <td>294</td>\n",
              "      <td>1</td>\n",
              "      <td>1</td>\n",
              "      <td>106</td>\n",
              "      <td>0</td>\n",
              "      <td>1.9</td>\n",
              "      <td>1</td>\n",
              "      <td>3</td>\n",
              "      <td>2</td>\n",
              "      <td>0</td>\n",
              "    </tr>\n",
              "  </tbody>\n",
              "</table>\n",
              "</div>\n",
              "      <button class=\"colab-df-convert\" onclick=\"convertToInteractive('df-daf77382-8720-434c-ad12-520e24000013')\"\n",
              "              title=\"Convert this dataframe to an interactive table.\"\n",
              "              style=\"display:none;\">\n",
              "        \n",
              "  <svg xmlns=\"http://www.w3.org/2000/svg\" height=\"24px\"viewBox=\"0 0 24 24\"\n",
              "       width=\"24px\">\n",
              "    <path d=\"M0 0h24v24H0V0z\" fill=\"none\"/>\n",
              "    <path d=\"M18.56 5.44l.94 2.06.94-2.06 2.06-.94-2.06-.94-.94-2.06-.94 2.06-2.06.94zm-11 1L8.5 8.5l.94-2.06 2.06-.94-2.06-.94L8.5 2.5l-.94 2.06-2.06.94zm10 10l.94 2.06.94-2.06 2.06-.94-2.06-.94-.94-2.06-.94 2.06-2.06.94z\"/><path d=\"M17.41 7.96l-1.37-1.37c-.4-.4-.92-.59-1.43-.59-.52 0-1.04.2-1.43.59L10.3 9.45l-7.72 7.72c-.78.78-.78 2.05 0 2.83L4 21.41c.39.39.9.59 1.41.59.51 0 1.02-.2 1.41-.59l7.78-7.78 2.81-2.81c.8-.78.8-2.07 0-2.86zM5.41 20L4 18.59l7.72-7.72 1.47 1.35L5.41 20z\"/>\n",
              "  </svg>\n",
              "      </button>\n",
              "      \n",
              "  <style>\n",
              "    .colab-df-container {\n",
              "      display:flex;\n",
              "      flex-wrap:wrap;\n",
              "      gap: 12px;\n",
              "    }\n",
              "\n",
              "    .colab-df-convert {\n",
              "      background-color: #E8F0FE;\n",
              "      border: none;\n",
              "      border-radius: 50%;\n",
              "      cursor: pointer;\n",
              "      display: none;\n",
              "      fill: #1967D2;\n",
              "      height: 32px;\n",
              "      padding: 0 0 0 0;\n",
              "      width: 32px;\n",
              "    }\n",
              "\n",
              "    .colab-df-convert:hover {\n",
              "      background-color: #E2EBFA;\n",
              "      box-shadow: 0px 1px 2px rgba(60, 64, 67, 0.3), 0px 1px 3px 1px rgba(60, 64, 67, 0.15);\n",
              "      fill: #174EA6;\n",
              "    }\n",
              "\n",
              "    [theme=dark] .colab-df-convert {\n",
              "      background-color: #3B4455;\n",
              "      fill: #D2E3FC;\n",
              "    }\n",
              "\n",
              "    [theme=dark] .colab-df-convert:hover {\n",
              "      background-color: #434B5C;\n",
              "      box-shadow: 0px 1px 3px 1px rgba(0, 0, 0, 0.15);\n",
              "      filter: drop-shadow(0px 1px 2px rgba(0, 0, 0, 0.3));\n",
              "      fill: #FFFFFF;\n",
              "    }\n",
              "  </style>\n",
              "\n",
              "      <script>\n",
              "        const buttonEl =\n",
              "          document.querySelector('#df-daf77382-8720-434c-ad12-520e24000013 button.colab-df-convert');\n",
              "        buttonEl.style.display =\n",
              "          google.colab.kernel.accessAllowed ? 'block' : 'none';\n",
              "\n",
              "        async function convertToInteractive(key) {\n",
              "          const element = document.querySelector('#df-daf77382-8720-434c-ad12-520e24000013');\n",
              "          const dataTable =\n",
              "            await google.colab.kernel.invokeFunction('convertToInteractive',\n",
              "                                                     [key], {});\n",
              "          if (!dataTable) return;\n",
              "\n",
              "          const docLinkHtml = 'Like what you see? Visit the ' +\n",
              "            '<a target=\"_blank\" href=https://colab.research.google.com/notebooks/data_table.ipynb>data table notebook</a>'\n",
              "            + ' to learn more about interactive tables.';\n",
              "          element.innerHTML = '';\n",
              "          dataTable['output_type'] = 'display_data';\n",
              "          await google.colab.output.renderOutput(dataTable, element);\n",
              "          const docLink = document.createElement('div');\n",
              "          docLink.innerHTML = docLinkHtml;\n",
              "          element.appendChild(docLink);\n",
              "        }\n",
              "      </script>\n",
              "    </div>\n",
              "  </div>\n",
              "  "
            ]
          },
          "metadata": {},
          "execution_count": 71
        }
      ]
    },
    {
      "cell_type": "code",
      "source": [
        "df.describe().T"
      ],
      "metadata": {
        "colab": {
          "base_uri": "https://localhost:8080/",
          "height": 474
        },
        "id": "oENN-w479Fih",
        "outputId": "7a7761ac-1ed6-43bf-827f-9b802aace5e1"
      },
      "execution_count": 72,
      "outputs": [
        {
          "output_type": "execute_result",
          "data": {
            "text/plain": [
              "           count        mean        std    min    25%    50%    75%    max\n",
              "age       1025.0   54.434146   9.072290   29.0   48.0   56.0   61.0   77.0\n",
              "sex       1025.0    0.695610   0.460373    0.0    0.0    1.0    1.0    1.0\n",
              "cp        1025.0    0.942439   1.029641    0.0    0.0    1.0    2.0    3.0\n",
              "trestbps  1025.0  131.611707  17.516718   94.0  120.0  130.0  140.0  200.0\n",
              "chol      1025.0  246.000000  51.592510  126.0  211.0  240.0  275.0  564.0\n",
              "fbs       1025.0    0.149268   0.356527    0.0    0.0    0.0    0.0    1.0\n",
              "restecg   1025.0    0.529756   0.527878    0.0    0.0    1.0    1.0    2.0\n",
              "thalach   1025.0  149.114146  23.005724   71.0  132.0  152.0  166.0  202.0\n",
              "exang     1025.0    0.336585   0.472772    0.0    0.0    0.0    1.0    1.0\n",
              "oldpeak   1025.0    1.071512   1.175053    0.0    0.0    0.8    1.8    6.2\n",
              "slope     1025.0    1.385366   0.617755    0.0    1.0    1.0    2.0    2.0\n",
              "ca        1025.0    0.754146   1.030798    0.0    0.0    0.0    1.0    4.0\n",
              "thal      1025.0    2.323902   0.620660    0.0    2.0    2.0    3.0    3.0\n",
              "target    1025.0    0.513171   0.500070    0.0    0.0    1.0    1.0    1.0"
            ],
            "text/html": [
              "\n",
              "  <div id=\"df-7aeac479-df20-4008-ad18-6c44e2e1693d\">\n",
              "    <div class=\"colab-df-container\">\n",
              "      <div>\n",
              "<style scoped>\n",
              "    .dataframe tbody tr th:only-of-type {\n",
              "        vertical-align: middle;\n",
              "    }\n",
              "\n",
              "    .dataframe tbody tr th {\n",
              "        vertical-align: top;\n",
              "    }\n",
              "\n",
              "    .dataframe thead th {\n",
              "        text-align: right;\n",
              "    }\n",
              "</style>\n",
              "<table border=\"1\" class=\"dataframe\">\n",
              "  <thead>\n",
              "    <tr style=\"text-align: right;\">\n",
              "      <th></th>\n",
              "      <th>count</th>\n",
              "      <th>mean</th>\n",
              "      <th>std</th>\n",
              "      <th>min</th>\n",
              "      <th>25%</th>\n",
              "      <th>50%</th>\n",
              "      <th>75%</th>\n",
              "      <th>max</th>\n",
              "    </tr>\n",
              "  </thead>\n",
              "  <tbody>\n",
              "    <tr>\n",
              "      <th>age</th>\n",
              "      <td>1025.0</td>\n",
              "      <td>54.434146</td>\n",
              "      <td>9.072290</td>\n",
              "      <td>29.0</td>\n",
              "      <td>48.0</td>\n",
              "      <td>56.0</td>\n",
              "      <td>61.0</td>\n",
              "      <td>77.0</td>\n",
              "    </tr>\n",
              "    <tr>\n",
              "      <th>sex</th>\n",
              "      <td>1025.0</td>\n",
              "      <td>0.695610</td>\n",
              "      <td>0.460373</td>\n",
              "      <td>0.0</td>\n",
              "      <td>0.0</td>\n",
              "      <td>1.0</td>\n",
              "      <td>1.0</td>\n",
              "      <td>1.0</td>\n",
              "    </tr>\n",
              "    <tr>\n",
              "      <th>cp</th>\n",
              "      <td>1025.0</td>\n",
              "      <td>0.942439</td>\n",
              "      <td>1.029641</td>\n",
              "      <td>0.0</td>\n",
              "      <td>0.0</td>\n",
              "      <td>1.0</td>\n",
              "      <td>2.0</td>\n",
              "      <td>3.0</td>\n",
              "    </tr>\n",
              "    <tr>\n",
              "      <th>trestbps</th>\n",
              "      <td>1025.0</td>\n",
              "      <td>131.611707</td>\n",
              "      <td>17.516718</td>\n",
              "      <td>94.0</td>\n",
              "      <td>120.0</td>\n",
              "      <td>130.0</td>\n",
              "      <td>140.0</td>\n",
              "      <td>200.0</td>\n",
              "    </tr>\n",
              "    <tr>\n",
              "      <th>chol</th>\n",
              "      <td>1025.0</td>\n",
              "      <td>246.000000</td>\n",
              "      <td>51.592510</td>\n",
              "      <td>126.0</td>\n",
              "      <td>211.0</td>\n",
              "      <td>240.0</td>\n",
              "      <td>275.0</td>\n",
              "      <td>564.0</td>\n",
              "    </tr>\n",
              "    <tr>\n",
              "      <th>fbs</th>\n",
              "      <td>1025.0</td>\n",
              "      <td>0.149268</td>\n",
              "      <td>0.356527</td>\n",
              "      <td>0.0</td>\n",
              "      <td>0.0</td>\n",
              "      <td>0.0</td>\n",
              "      <td>0.0</td>\n",
              "      <td>1.0</td>\n",
              "    </tr>\n",
              "    <tr>\n",
              "      <th>restecg</th>\n",
              "      <td>1025.0</td>\n",
              "      <td>0.529756</td>\n",
              "      <td>0.527878</td>\n",
              "      <td>0.0</td>\n",
              "      <td>0.0</td>\n",
              "      <td>1.0</td>\n",
              "      <td>1.0</td>\n",
              "      <td>2.0</td>\n",
              "    </tr>\n",
              "    <tr>\n",
              "      <th>thalach</th>\n",
              "      <td>1025.0</td>\n",
              "      <td>149.114146</td>\n",
              "      <td>23.005724</td>\n",
              "      <td>71.0</td>\n",
              "      <td>132.0</td>\n",
              "      <td>152.0</td>\n",
              "      <td>166.0</td>\n",
              "      <td>202.0</td>\n",
              "    </tr>\n",
              "    <tr>\n",
              "      <th>exang</th>\n",
              "      <td>1025.0</td>\n",
              "      <td>0.336585</td>\n",
              "      <td>0.472772</td>\n",
              "      <td>0.0</td>\n",
              "      <td>0.0</td>\n",
              "      <td>0.0</td>\n",
              "      <td>1.0</td>\n",
              "      <td>1.0</td>\n",
              "    </tr>\n",
              "    <tr>\n",
              "      <th>oldpeak</th>\n",
              "      <td>1025.0</td>\n",
              "      <td>1.071512</td>\n",
              "      <td>1.175053</td>\n",
              "      <td>0.0</td>\n",
              "      <td>0.0</td>\n",
              "      <td>0.8</td>\n",
              "      <td>1.8</td>\n",
              "      <td>6.2</td>\n",
              "    </tr>\n",
              "    <tr>\n",
              "      <th>slope</th>\n",
              "      <td>1025.0</td>\n",
              "      <td>1.385366</td>\n",
              "      <td>0.617755</td>\n",
              "      <td>0.0</td>\n",
              "      <td>1.0</td>\n",
              "      <td>1.0</td>\n",
              "      <td>2.0</td>\n",
              "      <td>2.0</td>\n",
              "    </tr>\n",
              "    <tr>\n",
              "      <th>ca</th>\n",
              "      <td>1025.0</td>\n",
              "      <td>0.754146</td>\n",
              "      <td>1.030798</td>\n",
              "      <td>0.0</td>\n",
              "      <td>0.0</td>\n",
              "      <td>0.0</td>\n",
              "      <td>1.0</td>\n",
              "      <td>4.0</td>\n",
              "    </tr>\n",
              "    <tr>\n",
              "      <th>thal</th>\n",
              "      <td>1025.0</td>\n",
              "      <td>2.323902</td>\n",
              "      <td>0.620660</td>\n",
              "      <td>0.0</td>\n",
              "      <td>2.0</td>\n",
              "      <td>2.0</td>\n",
              "      <td>3.0</td>\n",
              "      <td>3.0</td>\n",
              "    </tr>\n",
              "    <tr>\n",
              "      <th>target</th>\n",
              "      <td>1025.0</td>\n",
              "      <td>0.513171</td>\n",
              "      <td>0.500070</td>\n",
              "      <td>0.0</td>\n",
              "      <td>0.0</td>\n",
              "      <td>1.0</td>\n",
              "      <td>1.0</td>\n",
              "      <td>1.0</td>\n",
              "    </tr>\n",
              "  </tbody>\n",
              "</table>\n",
              "</div>\n",
              "      <button class=\"colab-df-convert\" onclick=\"convertToInteractive('df-7aeac479-df20-4008-ad18-6c44e2e1693d')\"\n",
              "              title=\"Convert this dataframe to an interactive table.\"\n",
              "              style=\"display:none;\">\n",
              "        \n",
              "  <svg xmlns=\"http://www.w3.org/2000/svg\" height=\"24px\"viewBox=\"0 0 24 24\"\n",
              "       width=\"24px\">\n",
              "    <path d=\"M0 0h24v24H0V0z\" fill=\"none\"/>\n",
              "    <path d=\"M18.56 5.44l.94 2.06.94-2.06 2.06-.94-2.06-.94-.94-2.06-.94 2.06-2.06.94zm-11 1L8.5 8.5l.94-2.06 2.06-.94-2.06-.94L8.5 2.5l-.94 2.06-2.06.94zm10 10l.94 2.06.94-2.06 2.06-.94-2.06-.94-.94-2.06-.94 2.06-2.06.94z\"/><path d=\"M17.41 7.96l-1.37-1.37c-.4-.4-.92-.59-1.43-.59-.52 0-1.04.2-1.43.59L10.3 9.45l-7.72 7.72c-.78.78-.78 2.05 0 2.83L4 21.41c.39.39.9.59 1.41.59.51 0 1.02-.2 1.41-.59l7.78-7.78 2.81-2.81c.8-.78.8-2.07 0-2.86zM5.41 20L4 18.59l7.72-7.72 1.47 1.35L5.41 20z\"/>\n",
              "  </svg>\n",
              "      </button>\n",
              "      \n",
              "  <style>\n",
              "    .colab-df-container {\n",
              "      display:flex;\n",
              "      flex-wrap:wrap;\n",
              "      gap: 12px;\n",
              "    }\n",
              "\n",
              "    .colab-df-convert {\n",
              "      background-color: #E8F0FE;\n",
              "      border: none;\n",
              "      border-radius: 50%;\n",
              "      cursor: pointer;\n",
              "      display: none;\n",
              "      fill: #1967D2;\n",
              "      height: 32px;\n",
              "      padding: 0 0 0 0;\n",
              "      width: 32px;\n",
              "    }\n",
              "\n",
              "    .colab-df-convert:hover {\n",
              "      background-color: #E2EBFA;\n",
              "      box-shadow: 0px 1px 2px rgba(60, 64, 67, 0.3), 0px 1px 3px 1px rgba(60, 64, 67, 0.15);\n",
              "      fill: #174EA6;\n",
              "    }\n",
              "\n",
              "    [theme=dark] .colab-df-convert {\n",
              "      background-color: #3B4455;\n",
              "      fill: #D2E3FC;\n",
              "    }\n",
              "\n",
              "    [theme=dark] .colab-df-convert:hover {\n",
              "      background-color: #434B5C;\n",
              "      box-shadow: 0px 1px 3px 1px rgba(0, 0, 0, 0.15);\n",
              "      filter: drop-shadow(0px 1px 2px rgba(0, 0, 0, 0.3));\n",
              "      fill: #FFFFFF;\n",
              "    }\n",
              "  </style>\n",
              "\n",
              "      <script>\n",
              "        const buttonEl =\n",
              "          document.querySelector('#df-7aeac479-df20-4008-ad18-6c44e2e1693d button.colab-df-convert');\n",
              "        buttonEl.style.display =\n",
              "          google.colab.kernel.accessAllowed ? 'block' : 'none';\n",
              "\n",
              "        async function convertToInteractive(key) {\n",
              "          const element = document.querySelector('#df-7aeac479-df20-4008-ad18-6c44e2e1693d');\n",
              "          const dataTable =\n",
              "            await google.colab.kernel.invokeFunction('convertToInteractive',\n",
              "                                                     [key], {});\n",
              "          if (!dataTable) return;\n",
              "\n",
              "          const docLinkHtml = 'Like what you see? Visit the ' +\n",
              "            '<a target=\"_blank\" href=https://colab.research.google.com/notebooks/data_table.ipynb>data table notebook</a>'\n",
              "            + ' to learn more about interactive tables.';\n",
              "          element.innerHTML = '';\n",
              "          dataTable['output_type'] = 'display_data';\n",
              "          await google.colab.output.renderOutput(dataTable, element);\n",
              "          const docLink = document.createElement('div');\n",
              "          docLink.innerHTML = docLinkHtml;\n",
              "          element.appendChild(docLink);\n",
              "        }\n",
              "      </script>\n",
              "    </div>\n",
              "  </div>\n",
              "  "
            ]
          },
          "metadata": {},
          "execution_count": 72
        }
      ]
    },
    {
      "cell_type": "code",
      "source": [
        "columns = df.columns"
      ],
      "metadata": {
        "id": "z9AHViRDAe5A"
      },
      "execution_count": 73,
      "outputs": []
    },
    {
      "cell_type": "code",
      "source": [
        "for i in columns[ : ]:\n",
        "    v = np.var(df[i])\n",
        "    print(\"column name: \", i)\n",
        "    print(\"variance: \", v)"
      ],
      "metadata": {
        "colab": {
          "base_uri": "https://localhost:8080/"
        },
        "id": "ETQmvVZvAfCT",
        "outputId": "1edb8323-cf7d-4915-9d66-813c2bdbf447"
      },
      "execution_count": 74,
      "outputs": [
        {
          "output_type": "stream",
          "name": "stdout",
          "text": [
            "column name:  age\n",
            "variance:  82.22615110053539\n",
            "column name:  sex\n",
            "variance:  0.21173682331945276\n",
            "column name:  cp\n",
            "variance:  1.059125758477097\n",
            "column name:  trestbps\n",
            "variance:  306.53605806067816\n",
            "column name:  chol\n",
            "variance:  2659.190243902439\n",
            "column name:  fbs\n",
            "variance:  0.1269872694824509\n",
            "column name:  restecg\n",
            "variance:  0.27838286734086853\n",
            "column name:  thalach\n",
            "variance:  528.7469706127305\n",
            "column name:  exang\n",
            "variance:  0.22329565734681736\n",
            "column name:  oldpeak\n",
            "variance:  1.3794030791195717\n",
            "column name:  slope\n",
            "variance:  0.38124925639500307\n",
            "column name:  ca\n",
            "variance:  1.0615071980963713\n",
            "column name:  thal\n",
            "variance:  0.3848433075550267\n",
            "column name:  target\n",
            "variance:  0.2498265318262939\n"
          ]
        }
      ]
    },
    {
      "cell_type": "code",
      "source": [
        "# all standard deviation\n",
        "for i in columns[ : ]:\n",
        "    sd = np.std(df[i]) \n",
        "    print(\"column name: \", i)\n",
        "    print(\"standard deviation: \", sd)"
      ],
      "metadata": {
        "colab": {
          "base_uri": "https://localhost:8080/"
        },
        "id": "fempWnHQAfIc",
        "outputId": "749bf88a-e16a-462e-98f8-b5e2cd6db2f9"
      },
      "execution_count": 75,
      "outputs": [
        {
          "output_type": "stream",
          "name": "stdout",
          "text": [
            "column name:  age\n",
            "standard deviation:  9.067863645894516\n",
            "column name:  sex\n",
            "standard deviation:  0.4601486969659403\n",
            "column name:  cp\n",
            "standard deviation:  1.029138357305322\n",
            "column name:  trestbps\n",
            "standard deviation:  17.508171179785688\n",
            "column name:  chol\n",
            "standard deviation:  51.56733698672483\n",
            "column name:  fbs\n",
            "standard deviation:  0.356352731829645\n",
            "column name:  restecg\n",
            "standard deviation:  0.5276200027869191\n",
            "column name:  thalach\n",
            "standard deviation:  22.994498703227485\n",
            "column name:  exang\n",
            "standard deviation:  0.4725416990560911\n",
            "column name:  oldpeak\n",
            "standard deviation:  1.1744799185680324\n",
            "column name:  slope\n",
            "standard deviation:  0.6174538496074043\n",
            "column name:  ca\n",
            "standard deviation:  1.0302947141941334\n",
            "column name:  thal\n",
            "standard deviation:  0.6203574030790853\n",
            "column name:  target\n",
            "standard deviation:  0.4998265017246424\n"
          ]
        }
      ]
    },
    {
      "cell_type": "code",
      "source": [
        "# all skewness\n",
        "for i in columns[ : ]:\n",
        "    sk = (df[i].skew()) \n",
        "    \n",
        "    print(\"column name: \", i)\n",
        "    print(\"variance: \", sk)"
      ],
      "metadata": {
        "colab": {
          "base_uri": "https://localhost:8080/"
        },
        "id": "87AmigDSAfQ6",
        "outputId": "5df0b6ea-8bb5-485e-a392-7fbb0e6c3f19"
      },
      "execution_count": 76,
      "outputs": [
        {
          "output_type": "stream",
          "name": "stdout",
          "text": [
            "column name:  age\n",
            "variance:  -0.24886590174584555\n",
            "column name:  sex\n",
            "variance:  -0.8514488985126767\n",
            "column name:  cp\n",
            "variance:  0.5294552058584099\n",
            "column name:  trestbps\n",
            "variance:  0.739768226050074\n",
            "column name:  chol\n",
            "variance:  1.0740727783354815\n",
            "column name:  fbs\n",
            "variance:  1.9713385276901942\n",
            "column name:  restecg\n",
            "variance:  0.18044041112923528\n",
            "column name:  thalach\n",
            "variance:  -0.5137771771417209\n",
            "column name:  exang\n",
            "variance:  0.692655170469321\n",
            "column name:  oldpeak\n",
            "variance:  1.2108993882065326\n",
            "column name:  slope\n",
            "variance:  -0.4791344197425813\n",
            "column name:  ca\n",
            "variance:  1.2611886429097716\n",
            "column name:  thal\n",
            "variance:  -0.5243897710407986\n",
            "column name:  target\n",
            "variance:  -0.05277848219047285\n"
          ]
        }
      ]
    },
    {
      "cell_type": "markdown",
      "source": [
        "# all kurtosis"
      ],
      "metadata": {
        "id": "4Gb5Q0ALB28N"
      }
    },
    {
      "cell_type": "code",
      "source": [
        "\n",
        "for i in columns[ : ]:\n",
        "    sk = (df[i].kurtosis()) \n",
        "    \n",
        "    print(\"column name: \", i)\n",
        "    print(\"Kurtosis: \", sk)"
      ],
      "metadata": {
        "colab": {
          "base_uri": "https://localhost:8080/"
        },
        "id": "ZCdjMh2hAfYF",
        "outputId": "15c5445a-4100-44c7-edb9-e9137e702179"
      },
      "execution_count": 79,
      "outputs": [
        {
          "output_type": "stream",
          "name": "stdout",
          "text": [
            "column name:  age\n",
            "Kurtosis:  -0.5256178128684339\n",
            "column name:  sex\n",
            "Kurtosis:  -1.2775313330187505\n",
            "column name:  cp\n",
            "Kurtosis:  -1.1494995222913056\n",
            "column name:  trestbps\n",
            "Kurtosis:  0.9912207431245537\n",
            "column name:  chol\n",
            "Kurtosis:  3.9968030492724647\n",
            "column name:  fbs\n",
            "Kurtosis:  1.8898593171743996\n",
            "column name:  restecg\n",
            "Kurtosis:  -1.3096135146492\n",
            "column name:  thalach\n",
            "Kurtosis:  -0.08882248803265647\n",
            "column name:  exang\n",
            "Kurtosis:  -1.5232047382747014\n",
            "column name:  oldpeak\n",
            "Kurtosis:  1.3144708893202801\n",
            "column name:  slope\n",
            "Kurtosis:  -0.6471291959211065\n",
            "column name:  ca\n",
            "Kurtosis:  0.7011228657727422\n",
            "column name:  thal\n",
            "Kurtosis:  0.25082653446427816\n",
            "column name:  target\n",
            "Kurtosis:  -2.0011228802510272\n"
          ]
        }
      ]
    },
    {
      "cell_type": "code",
      "source": [
        "for i in columns[ : ]:\n",
        "    mean = df[i].mean()\n",
        "    std = df[i].std()\n",
        "    cv = (std / mean) * 100\n",
        "    \n",
        "    print(\"column name: \", i)\n",
        "    print(\"coefficient of variation: \", cv)\n",
        "\n"
      ],
      "metadata": {
        "colab": {
          "base_uri": "https://localhost:8080/"
        },
        "id": "OhJrLDYGAfd1",
        "outputId": "dc217aa4-2f33-4cff-d357-33e82cc7628c"
      },
      "execution_count": 80,
      "outputs": [
        {
          "output_type": "stream",
          "name": "stdout",
          "text": [
            "column name:  age\n",
            "coefficient of variation:  16.66654268137895\n",
            "column name:  sex\n",
            "coefficient of variation:  66.18270087274063\n",
            "column name:  cp\n",
            "coefficient of variation:  109.2527704179101\n",
            "column name:  trestbps\n",
            "coefficient of variation:  13.309391970104828\n",
            "column name:  chol\n",
            "coefficient of variation:  20.972565124464253\n",
            "column name:  fbs\n",
            "coefficient of variation:  238.8495797191742\n",
            "column name:  restecg\n",
            "coefficient of variation:  99.64539706201921\n",
            "column name:  thalach\n",
            "coefficient of variation:  15.428263723077842\n",
            "column name:  exang\n",
            "coefficient of variation:  140.4613580880593\n",
            "column name:  oldpeak\n",
            "coefficient of variation:  109.66307807784122\n",
            "column name:  slope\n",
            "coefficient of variation:  44.591489355912444\n",
            "column name:  ca\n",
            "coefficient of variation:  136.68403708277998\n",
            "column name:  thal\n",
            "coefficient of variation:  26.707671872472943\n",
            "column name:  target\n",
            "coefficient of variation:  97.4471978195383\n"
          ]
        }
      ]
    },
    {
      "cell_type": "code",
      "source": [],
      "metadata": {
        "id": "BqVHKr6SAfj9"
      },
      "execution_count": null,
      "outputs": []
    },
    {
      "cell_type": "code",
      "source": [],
      "metadata": {
        "id": "wydj8RDfAf-p"
      },
      "execution_count": null,
      "outputs": []
    },
    {
      "cell_type": "code",
      "source": [],
      "metadata": {
        "id": "jw2mn88ZAgFB"
      },
      "execution_count": null,
      "outputs": []
    },
    {
      "cell_type": "code",
      "source": [],
      "metadata": {
        "id": "xKRO-VMY9Fnc"
      },
      "execution_count": null,
      "outputs": []
    }
  ]
}